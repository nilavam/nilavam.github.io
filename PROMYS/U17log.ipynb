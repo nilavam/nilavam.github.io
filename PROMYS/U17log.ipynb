{
 "cells": [
  {
   "cell_type": "code",
   "execution_count": 45,
   "id": "610581ce",
   "metadata": {
    "scrolled": false
   },
   "outputs": [
    {
     "name": "stdout",
     "output_type": "stream",
     "text": [
      "\t1\t2\t3\t4\t5\t6\t7\t8\t9\t10\t11\t12\t13\t14\t15\t16\t\n",
      "------------------------------------------------------------------------------------------------------------------------------------\n",
      "1\t1\t8\t16\t4\t16\t16\t16\t8\t8\t16\t16\t16\t4\t16\t8\t2\t\n",
      "2\tNA \t1\t14\tNA \t6\t2\t10\t3\t7\t10\t2\t6\tNA \t14\t5\tNA \t\n",
      "3\tNA \tNA \t1\tNA \t13\t15\t3\tNA \tNA \t11\t7\t5\tNA \t9\tNA \tNA \t\n",
      "4\tNA \t2\t12\t1\t12\t4\t4\t6\t6\t4\t4\t12\t3\t12\t2\tNA \t\n",
      "5\tNA \tNA \t5\tNA \t1\t11\t15\tNA \tNA \t7\t3\t9\tNA \t13\tNA \tNA \t\n",
      "6\tNA \tNA \t15\tNA \t3\t1\t13\tNA \tNA \t5\t9\t11\tNA \t7\tNA \tNA \t\n",
      "7\tNA \tNA \t11\tNA \t15\t5\t1\tNA \tNA \t9\t13\t7\tNA \t3\tNA \tNA \t\n",
      "8\tNA \t3\t10\tNA \t2\t6\t14\t1\t5\t14\t6\t2\tNA \t10\t7\tNA \t\n",
      "9\tNA \t7\t2\tNA \t10\t14\t6\t5\t1\t6\t14\t10\tNA \t2\t3\tNA \t\n",
      "10\tNA \tNA \t3\tNA \t7\t13\t9\tNA \tNA \t1\t5\t15\tNA \t11\tNA \tNA \t\n",
      "11\tNA \tNA \t7\tNA \t11\t9\t5\tNA \tNA \t13\t1\t3\tNA \t15\tNA \tNA \t\n",
      "12\tNA \tNA \t13\tNA \t9\t3\t7\tNA \tNA \t15\t11\t1\tNA \t5\tNA \tNA \t\n",
      "13\tNA \t6\t4\t3\t4\t12\t12\t2\t2\t12\t12\t4\t1\t4\t6\tNA \t\n",
      "14\tNA \tNA \t9\tNA \t5\t7\t11\tNA \tNA \t3\t15\t13\tNA \t1\tNA \tNA \t\n",
      "15\tNA \t5\t6\tNA \t14\t10\t2\t7\t3\t2\t10\t14\tNA \t6\t1\tNA \t\n",
      "16\tNA \t4\t8\t2\t8\t8\t8\t4\t4\t8\t8\t8\t2\t8\t4\t1\t\n"
     ]
    }
   ],
   "source": [
    "#the entry in i th row and j th column is log_j(i), that is j^{?} = i mod 17.\n",
    "m = 17\n",
    "print(\"\\t\", end=\"\")\n",
    "for j in range(1,m):\n",
    "    print(j,end=\"\\t\")\n",
    "print()\n",
    "print(\"------------------------------------------------------------------------------------------------------------------------------------\")\n",
    "    \n",
    "for i in range(1,m):\n",
    "    print(i,end=\"\\t\")\n",
    "    for j in range(1,m):\n",
    "        check = 0\n",
    "        for p in range(1,m):\n",
    "            if (j^p % m == i):\n",
    "                check = 1\n",
    "                print(p, end=\"\\t\")\n",
    "                break\n",
    "        if (check == 0):\n",
    "            print(\"NA \", end=\"\\t\")\n",
    "    print()"
   ]
  }
 ],
 "metadata": {
  "kernelspec": {
   "display_name": "SageMath 9.5",
   "language": "sage",
   "name": "sagemath-9.5"
  },
  "language_info": {
   "codemirror_mode": {
    "name": "ipython",
    "version": 3
   },
   "file_extension": ".py",
   "mimetype": "text/x-python",
   "name": "python",
   "nbconvert_exporter": "python",
   "pygments_lexer": "ipython3",
   "version": "3.9.9"
  }
 },
 "nbformat": 4,
 "nbformat_minor": 5
}

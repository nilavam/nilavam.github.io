{
 "cells": [
  {
   "cell_type": "code",
   "execution_count": 1,
   "id": "6d4f70c5",
   "metadata": {},
   "outputs": [],
   "source": [
    "from sympy import *\n",
    "from IPython.display import display, Latex"
   ]
  },
  {
   "cell_type": "code",
   "execution_count": 2,
   "id": "944dd840",
   "metadata": {},
   "outputs": [],
   "source": [
    "x = Symbol('x')\n",
    "y = Symbol('y')\n",
    "a = Symbol('a')\n",
    "b = Symbol('b')"
   ]
  },
  {
   "cell_type": "code",
   "execution_count": 3,
   "id": "08676cf6",
   "metadata": {},
   "outputs": [],
   "source": [
    "def double_EC(P,s,t):\n",
    "    print(\"doubling\", end = \" \")\n",
    "    l = 3*P[0]*P[0]+s\n",
    "    nu = t-2*P[0]*P[0]*P[0]\n",
    "    return ([-2*P[0], -2*l*P[0]+nu])"
   ]
  },
  {
   "cell_type": "code",
   "execution_count": 4,
   "id": "177adb0f",
   "metadata": {},
   "outputs": [],
   "source": [
    "def mult(P,s,t,k):\n",
    "    if(k%2==0):\n",
    "        return double(mult(P,s,t,k/2),s,t)\n",
    "    else:\n",
    "        return "
   ]
  },
  {
   "cell_type": "code",
   "execution_count": 5,
   "id": "9d9be54a",
   "metadata": {},
   "outputs": [],
   "source": [
    "def sum_points(P,Q,s,t):\n",
    "    print(\"adding\", end = \" \")\n",
    "    if(Q[0]==P[0] and Q[1]==P[1]):\n",
    "        double_EC(P,s,t)\n",
    "    if (Q[0] != P[0]):\n",
    "        l = (Q[1]-P[1])/(Q[0]-P[0])\n",
    "        nu = P[1] - l*P[0]\n",
    "        x3 = l*l-P[0]-P[1]\n",
    "        y3 = l*x3 + nu\n",
    "        return [x3,y3]\n",
    "    x3 = P[0]\n",
    "    y3 = x3*x3*x3 + s*x3 + t\n",
    "    return [x3, y3]"
   ]
  },
  {
   "cell_type": "code",
   "execution_count": null,
   "id": "587b4a09",
   "metadata": {},
   "outputs": [],
   "source": [
    "p = 17\n",
    "q = p*p\n",
    "B = [x,y]\n",
    "table = [[],[x,y]]\n",
    "for i in range(2,q):\n",
    "    print(i)\n",
    "    if (i%2==0):\n",
    "        p = double_EC(table[int(i/2)],a,b)\n",
    "    else:\n",
    "        p = sum_points([x,y],double_EC(table[int((i-1)/2)],a,b),a,b)\n",
    "    print(\"done\", end = \" \")\n",
    "    display(p[0], p[1])\n",
    "    table.append(p)"
   ]
  },
  {
   "cell_type": "code",
   "execution_count": 12,
   "id": "d815fb23",
   "metadata": {},
   "outputs": [
    {
     "name": "stdout",
     "output_type": "stream",
     "text": [
      "[-2*x, -2*a*x + b - 8*x**3]\n"
     ]
    }
   ],
   "source": [
    "print(sum_points([x,y],[x,y],a,b))"
   ]
  },
  {
   "cell_type": "code",
   "execution_count": 25,
   "id": "07a462c3",
   "metadata": {},
   "outputs": [
    {
     "ename": "NameError",
     "evalue": "name 'show' is not defined",
     "output_type": "error",
     "traceback": [
      "\u001b[0;31m---------------------------------------------------------------------------\u001b[0m",
      "\u001b[0;31mNameError\u001b[0m                                 Traceback (most recent call last)",
      "Cell \u001b[0;32mIn[25], line 1\u001b[0m\n\u001b[0;32m----> 1\u001b[0m show(\u001b[38;5;241m5\u001b[39m\u001b[38;5;241m/\u001b[39m\u001b[38;5;241m6\u001b[39m)\n",
      "\u001b[0;31mNameError\u001b[0m: name 'show' is not defined"
     ]
    }
   ],
   "source": [
    "l = (Q[1]-P[1])/(Q[0]-P[0])\n",
    "nu = P[1] - l*P[0]\n",
    "x3 = l*l-P[0]-P[1]\n",
    "y3 = l*x3 + nu"
   ]
  },
  {
   "cell_type": "code",
   "execution_count": null,
   "id": "0741cd42",
   "metadata": {},
   "outputs": [],
   "source": []
  }
 ],
 "metadata": {
  "kernelspec": {
   "display_name": "Python 3 (ipykernel)",
   "language": "python",
   "name": "python3"
  },
  "language_info": {
   "codemirror_mode": {
    "name": "ipython",
    "version": 3
   },
   "file_extension": ".py",
   "mimetype": "text/x-python",
   "name": "python",
   "nbconvert_exporter": "python",
   "pygments_lexer": "ipython3",
   "version": "3.11.6"
  }
 },
 "nbformat": 4,
 "nbformat_minor": 5
}

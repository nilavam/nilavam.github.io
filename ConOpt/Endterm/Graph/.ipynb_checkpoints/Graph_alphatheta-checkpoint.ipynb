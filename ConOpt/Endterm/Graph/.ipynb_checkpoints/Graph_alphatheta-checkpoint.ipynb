{
 "cells": [
  {
   "cell_type": "code",
   "execution_count": 1,
   "id": "3777c4d6",
   "metadata": {},
   "outputs": [],
   "source": [
    "import numpy as np\n",
    "import cvxpy as cp\n",
    "import scipy\n",
    "mat = scipy.io.loadmat('AdjacencyMatrix.mat')\n",
    "G = mat['A']"
   ]
  },
  {
   "cell_type": "code",
   "execution_count": 2,
   "id": "1f212ffe",
   "metadata": {},
   "outputs": [],
   "source": [
    "n = len(G)\n",
    "one = [1 for i in range(n)]\n",
    "J = np.outer(one, one)\n",
    "I = np.identity(n)\n",
    "\n",
    "#auxiliary method to check if the list of vertices v forms a stable set in graph\n",
    "def isStable(v):\n",
    "    l = len(v)\n",
    "    for i in range(l):\n",
    "        for j in range(i+1,l):\n",
    "            if(G[v[i]][v[j]] == 1):\n",
    "                return False\n",
    "    return True"
   ]
  },
  {
   "cell_type": "code",
   "execution_count": 3,
   "id": "c237b83b",
   "metadata": {},
   "outputs": [
    {
     "name": "stdout",
     "output_type": "stream",
     "text": [
      "5.333333264771721 \n",
      "\n"
     ]
    }
   ],
   "source": [
    "X = cp.Variable((n,n), symmetric = True)\n",
    "constraints = [X >> 0, cp.trace(X) == 1]\n",
    "for i in range(n):\n",
    "    for j in range(i,n):\n",
    "        if(G[i][j] == 1):\n",
    "            constraints.append(X[i][j] == 0)\n",
    "constraints\n",
    "prob = cp.Problem(cp.Maximize(cp.trace(J @ X)), constraints)\n",
    "print(prob.solve(),\"\\n\")"
   ]
  },
  {
   "cell_type": "code",
   "execution_count": 4,
   "id": "21ba6d98",
   "metadata": {},
   "outputs": [
    {
     "name": "stdout",
     "output_type": "stream",
     "text": [
      "0\n"
     ]
    }
   ],
   "source": [
    "#stable sets of length 5\n",
    "s5 = 0\n",
    "for i in range(n):\n",
    "    for j in range(i+1,n):\n",
    "        if(G[i,j]==1):\n",
    "            continue\n",
    "        for k in range(j+1,n):\n",
    "            if(G[j,k] == 1 or G[i,k] == 1):\n",
    "                continue\n",
    "            for l in range(k+1,n):\n",
    "                if(not isStable([i,j,k,l])):\n",
    "                    continue\n",
    "                for t in range(l+1,n):\n",
    "                    if(isStable([i,j,k,l,t])):\n",
    "                        print([i,j,k,l,t])\n",
    "                        s5 = s5 + 1\n",
    "print(s5)"
   ]
  },
  {
   "cell_type": "code",
   "execution_count": 5,
   "id": "d5222456",
   "metadata": {},
   "outputs": [
    {
     "name": "stdout",
     "output_type": "stream",
     "text": [
      "240\n"
     ]
    }
   ],
   "source": [
    "#stable sets of length 4\n",
    "s4 = 0\n",
    "for i in range(n):\n",
    "    for j in range(i+1,n):\n",
    "        if(G[i,j]==1):\n",
    "            continue\n",
    "        for k in range(j+1,n):\n",
    "            if(G[j,k] == 1 or G[i,k] == 1):\n",
    "                continue\n",
    "            for l in range(k+1,n):\n",
    "                if(isStable([i,j,k,l])):\n",
    "                    #print([i,j,k,l])\n",
    "                    s4 = s4 + 1\n",
    "print(s4)"
   ]
  },
  {
   "cell_type": "code",
   "execution_count": 6,
   "id": "860db9ff",
   "metadata": {},
   "outputs": [
    {
     "name": "stdout",
     "output_type": "stream",
     "text": [
      "[[0 0 0 0]\n",
      " [0 0 0 0]\n",
      " [0 0 0 0]\n",
      " [0 0 0 0]]\n"
     ]
    }
   ],
   "source": [
    "stb = [0, 15, 51, 60]\n",
    "print(np.array([[G[i][j] for i in stb] for j in stb]))"
   ]
  },
  {
   "cell_type": "markdown",
   "id": "89a5c071",
   "metadata": {},
   "source": [
    "Here we solve the following problem:\n",
    "\\begin{equation}\\label{lovasz}\\tag{$(Q)$}\n",
    "\\vartheta'(G) = \\left\\{\n",
    "\\begin{aligned}\n",
    "\\min_{\\substack{P\\in S^{n}\\\\k\\in \\mathbb R}}&~ k\\\\\n",
    "\\text{s.t.} &~ k(I+A)-J-P \\ge 0\\\\\n",
    "&~ P\\succeq 0\n",
    "\\end{aligned}\\right.\n",
    "\\end{equation}"
   ]
  },
  {
   "cell_type": "code",
   "execution_count": 7,
   "id": "22dbce76",
   "metadata": {},
   "outputs": [
    {
     "name": "stdout",
     "output_type": "stream",
     "text": [
      "3.999999962758152 \n",
      "\n"
     ]
    }
   ],
   "source": [
    "#solving the given problem for \\vartheta'(G)\n",
    "P = cp.Variable((n,n), symmetric = True)\n",
    "k = cp.Variable(1)\n",
    "constraints = [P >> 0]\n",
    "for i in range(n):\n",
    "    for j in range(i,n):\n",
    "        constraints.append(k*(I[i][j]+G[i][j]) >= J[i][j] + P[i][j])\n",
    "#constraints\n",
    "prob = cp.Problem(cp.Minimize(k), constraints)\n",
    "print(prob.solve(),\"\\n\")"
   ]
  },
  {
   "cell_type": "markdown",
   "id": "be7383c8",
   "metadata": {},
   "source": [
    "We showed that \\text{optval}\\ref{lovasz} is equal to \\begin{equation}\\label{tra}\\tag{$(R)$}\n",
    "\\begin{aligned}\n",
    "\\min_{\\substack{X\\in S^{n}\\\\k\\in \\mathbb R}}&~ k\\\\\n",
    "\\text{s.t.} &~ kA \\ge X\\\\\n",
    "&~ kI+X\\succeq J\n",
    "\\end{aligned}\n",
    "\\end{equation}\n",
    "For sanity check, we also solve this problem and check."
   ]
  },
  {
   "cell_type": "code",
   "execution_count": 8,
   "id": "d6339313",
   "metadata": {},
   "outputs": [
    {
     "name": "stdout",
     "output_type": "stream",
     "text": [
      "3.9999999331124707 \n",
      "\n"
     ]
    }
   ],
   "source": [
    "#solving the given problem for \\vartheta'(G)\n",
    "M = cp.Variable((n,n), symmetric = True)\n",
    "l = cp.Variable(1)\n",
    "constraints = [l*I+M >> J]\n",
    "for i in range(n):\n",
    "    for j in range(i,n):\n",
    "        constraints.append(l*G[i][j] >= M[i][j])\n",
    "#constraints\n",
    "prob = cp.Problem(cp.Minimize(l), constraints)\n",
    "print(prob.solve(),\"\\n\")"
   ]
  }
 ],
 "metadata": {
  "kernelspec": {
   "display_name": "Python 3 (ipykernel)",
   "language": "python",
   "name": "python3"
  },
  "language_info": {
   "codemirror_mode": {
    "name": "ipython",
    "version": 3
   },
   "file_extension": ".py",
   "mimetype": "text/x-python",
   "name": "python",
   "nbconvert_exporter": "python",
   "pygments_lexer": "ipython3",
   "version": "3.11.6"
  }
 },
 "nbformat": 4,
 "nbformat_minor": 5
}

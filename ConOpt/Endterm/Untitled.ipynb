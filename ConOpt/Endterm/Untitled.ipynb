{
 "cells": [
  {
   "cell_type": "code",
   "execution_count": 2,
   "id": "1597ce38",
   "metadata": {},
   "outputs": [],
   "source": [
    "import numpy as np\n",
    "from mpl_toolkits import mplot3d\n",
    "from mpl_toolkits.mplot3d import axes3d\n",
    "import matplotlib.pyplot as plt\n",
    "import random\n",
    "from sympy import *\n",
    "#plt.style.use('seaborn-poster')"
   ]
  },
  {
   "cell_type": "code",
   "execution_count": 38,
   "id": "f067b586",
   "metadata": {},
   "outputs": [
    {
     "name": "stdout",
     "output_type": "stream",
     "text": [
      "0 10 \t -1600 \t -12 \t 792\n",
      "0 4 \t 1856 \t -12 \t -360\n",
      "0 -1 \t -269 \t -12 \t 660\n",
      "1 10 \t -1603 \t 24 \t 792\n",
      "1 4 \t 1853 \t 24 \t -360\n",
      "1 -1 \t -272 \t 24 \t 660\n",
      "-1 10 \t -1603 \t 24 \t 792\n",
      "-1 4 \t 1853 \t 24 \t -360\n",
      "-1 -1 \t -272 \t 24 \t 660\n",
      "\n",
      "0 10 \t 0 \t 0\n",
      "0 4 \t 0 \t 0\n",
      "0 -1 \t 0 \t 0\n",
      "1 10 \t 0 \t 0\n",
      "1 4 \t 0 \t 0\n",
      "1 -1 \t 0 \t 0\n",
      "-1 10 \t 0 \t 0\n",
      "-1 4 \t 0 \t 0\n",
      "-1 -1 \t 0 \t 0\n",
      "\n",
      "0 10 \t -12 \t 792\n",
      "0 4 \t -12 \t -360\n",
      "0 -1 \t -12 \t 660\n",
      "1 10 \t 24 \t 792\n",
      "1 4 \t 24 \t -360\n",
      "1 -1 \t 24 \t 660\n",
      "-1 10 \t 24 \t 792\n",
      "-1 4 \t 24 \t -360\n",
      "-1 -1 \t 24 \t 660\n"
     ]
    }
   ],
   "source": [
    "from sympy import *\n",
    "x = sym.Symbol('x')\n",
    "y = sym.Symbol('y')\n",
    "r = list([0,1,-1])\n",
    "s = list([10,4,-1])\n",
    "px, py = 1, 1\n",
    "for i in range(3):\n",
    "    px = px * (x-r[i])\n",
    "    py = py * (y-s[i])\n",
    "\n",
    "g = 12*integrate(px, x) + 12*integrate(py, y)\n",
    "\n",
    "for i in r:\n",
    "    for j in s:\n",
    "        print(i,j,'\\t',g.subs([(x,i),(y,j)]),'\\t', diff(diff(g,x),x).subs([(x,i),(y,j)]), '\\t', diff(diff(g,y),y).subs([(x,i),(y,j)]))\n",
    "print()\n",
    "for i in r:\n",
    "    for j in s:\n",
    "        print(i,j,'\\t', diff(g,x).subs([(x,i),(y,j)]), '\\t', diff(g,y).subs([(x,i),(y,j)]))\n",
    "print()\n",
    "for i in r:\n",
    "    for j in s:\n",
    "        print(i,j,'\\t', diff(diff(g,x),x).subs([(x,i),(y,j)]), '\\t', diff(diff(g,y),y).subs([(x,i),(y,j)]))"
   ]
  },
  {
   "cell_type": "code",
   "execution_count": 83,
   "id": "3d13d4a4",
   "metadata": {},
   "outputs": [
    {
     "name": "stdout",
     "output_type": "stream",
     "text": [
      "0 0 0 \t 0 \t 36 \t 72 \t 108\n",
      "0 0 3 \t -81 \t 36 \t 72 \t 216\n",
      "0 3 0 \t -54 \t 36 \t 144 \t 108\n",
      "0 3 3 \t -135 \t 36 \t 144 \t 216\n",
      "3 0 0 \t -27 \t 72 \t 72 \t 108\n",
      "3 0 3 \t -108 \t 72 \t 72 \t 216\n",
      "3 3 0 \t -81 \t 72 \t 144 \t 108\n",
      "3 3 3 \t -162 \t 72 \t 144 \t 216\n",
      "[0, -81, -54, -135, -27, -108, -81, -162]\n",
      "1\n"
     ]
    }
   ],
   "source": [
    "from sympy import *\n",
    "x = Symbol('x')\n",
    "y = Symbol('y')\n",
    "z = Symbol('z')\n",
    "r = list([0,1,3])\n",
    "s = list([0,1,3])\n",
    "t = list([0,1,3])\n",
    "px, py, pz = 1, 1, 1\n",
    "for i in range(3):\n",
    "    px = px * (x-r[i])\n",
    "    py = py * (y-s[i])\n",
    "    pz = pz * (z-t[i])\n",
    "g = 12*integrate(px, x) + 24*integrate(py, y) + 36*integrate(pz, z)\n",
    "#print(g)\n",
    "vals = []\n",
    "for i in r:\n",
    "    for j in s:\n",
    "        for k in t:\n",
    "            dxx = diff(diff(g,x),x).subs([(x,i),(y,j),(z,k)])\n",
    "            dyy = diff(diff(g,y),y).subs([(x,i),(y,j),(z,k)])\n",
    "            dzz = diff(diff(g,z),z).subs([(x,i),(y,j),(z,k)])\n",
    "            v = g.subs([(x,i),(y,j),(z,k)])\n",
    "            if (dxx>=0 and dyy>=0 and dzz>=0):\n",
    "                print(i,j,k,'\\t',v,'\\t', dxx, '\\t', dyy, '\\t', dzz)\n",
    "                vals.append(v)\n",
    "#             else:\n",
    "#                 print()\n",
    "#print()        \n",
    "#print(len(vals))\n",
    "#print(vals)\n",
    "print(vals)\n",
    "print(vals.count(min(vals)))"
   ]
  },
  {
   "cell_type": "code",
   "execution_count": 80,
   "id": "b7391682",
   "metadata": {},
   "outputs": [],
   "source": [
    "def pr(r,s,t):\n",
    "    x = Symbol('x')\n",
    "    y = Symbol('y')\n",
    "    z = Symbol('z')\n",
    "    px, py, pz = 1,1,1\n",
    "    for i in range(3):\n",
    "        px = px * (x-r[i])\n",
    "        py = py * (y-s[i])\n",
    "        pz = pz * (z-t[i])\n",
    "    g = 12*integrate(px, x) + 12*integrate(py, y) + 12*integrate(pz, z)\n",
    "    vals = []\n",
    "    for i in r:\n",
    "        for j in s:\n",
    "            for k in t:\n",
    "                dxx = diff(diff(g,x),x).subs([(x,i),(y,j),(z,k)])\n",
    "                dyy = diff(diff(g,y),y).subs([(x,i),(y,j),(z,k)])\n",
    "                dzz = diff(diff(g,z),z).subs([(x,i),(y,j),(z,k)])\n",
    "                v = g.subs([(x,i),(y,j),(z,k)])\n",
    "                #print(i,j,'\\t',v,'\\t', dxx, '\\t', dyy, '\\t', dzz, end=\"\\t\")\n",
    "                if (dxx>=0 and dyy>=0 and dzz>=0):\n",
    "                    #print(\"*\")\n",
    "                    vals.append(v)\n",
    "    return(vals.count(min(vals)))\n",
    "\n",
    "for i in range(100):\n",
    "    r = np.random.randint(4, size=3)\n",
    "    s = np.random.randint(10, size=3)\n",
    "    t = np.random.randint(10, size=3)\n",
    "    if(pr(r,2*r,3*r) <= 4 and distinct(r) and 0 in r and max(r)==2):\n",
    "        print(np.sort(r))"
   ]
  },
  {
   "cell_type": "code",
   "execution_count": 79,
   "id": "b0e3e0c4",
   "metadata": {},
   "outputs": [
    {
     "name": "stdout",
     "output_type": "stream",
     "text": [
      "[0 1 2]\n",
      "[0 1 2]\n",
      "[0 1 2]\n",
      "[0 1 2]\n",
      "[0 1 2]\n",
      "[0 1 2]\n"
     ]
    }
   ],
   "source": [
    "def pr(r,s,t,u):\n",
    "    x = Symbol('x')\n",
    "    y = Symbol('y')\n",
    "    z = Symbol('z')\n",
    "    w = Symbol('w')\n",
    "    px, py, pz, pw = 1,1,1,1\n",
    "    for i in range(3):\n",
    "        px = px * (x-r[i])\n",
    "        py = py * (y-s[i])\n",
    "        pz = pz * (z-t[i])\n",
    "        pw = pw * (z-u[i])\n",
    "    g = 12*integrate(px, x) + 12*integrate(py, y) + 12*integrate(pz, z) + 12*integrate(pw, w)\n",
    "    vals = []\n",
    "    for i in r:\n",
    "        for j in s:\n",
    "            for k in t:\n",
    "                for l in u:\n",
    "                    dxx = diff(diff(g,x),x).subs([(x,i),(y,j),(z,k),(w,l)])\n",
    "                    dyy = diff(diff(g,y),y).subs([(x,i),(y,j),(z,k),(w,l)])\n",
    "                    dzz = diff(diff(g,z),z).subs([(x,i),(y,j),(z,k),(w,l)])\n",
    "                    dww = diff(diff(g,w),w).subs([(x,i),(y,j),(z,k),(w,l)])\n",
    "                    v = g.subs([(x,i),(y,j),(z,k),(w,l)])\n",
    "                    #print(i,j,'\\t',v,'\\t', dxx, '\\t', dyy, '\\t', dzz, end=\"\\t\")\n",
    "                    if (dxx>=0 and dyy>=0 and dzz>=0 and dww>=0):\n",
    "                        #print(\"*\")\n",
    "                        vals.append(v)\n",
    "    if (len(vals)==0):\n",
    "        return 100\n",
    "    return(vals.count(min(vals)))\n",
    "\n",
    "for i in range(100):\n",
    "    r = np.random.randint(5, size=3)\n",
    "    if(pr(r,2*r,3*r, 4*r) <= 4 and distinct(r) and 0 in r and max(r)==2):\n",
    "        print(np.sort(r))"
   ]
  },
  {
   "cell_type": "code",
   "execution_count": 28,
   "id": "cd5ecec8",
   "metadata": {},
   "outputs": [
    {
     "name": "stdout",
     "output_type": "stream",
     "text": [
      "5 4 9 \t -2230 \t 96 \t -36 \t 72\t\n",
      "5 4 8 \t -2219 \t 96 \t -36 \t -60\t\n",
      "5 4 3 \t -3094 \t 96 \t -36 \t 360\t\n",
      "5 5 9 \t -2237 \t 96 \t 48 \t 72\t*\n",
      "5 5 8 \t -2226 \t 96 \t 48 \t -60\t\n",
      "5 5 3 \t -3101 \t 96 \t 48 \t 360\t*\n",
      "5 1 9 \t -2365 \t 96 \t 144 \t 72\t*\n",
      "5 1 8 \t -2354 \t 96 \t 144 \t -60\t\n",
      "5 1 3 \t -3229 \t 96 \t 144 \t 360\t*\n",
      "3 4 9 \t -2182 \t -48 \t -36 \t 72\t\n",
      "3 4 8 \t -2171 \t -48 \t -36 \t -60\t\n",
      "3 4 3 \t -3046 \t -48 \t -36 \t 360\t\n",
      "3 5 9 \t -2189 \t -48 \t 48 \t 72\t\n",
      "3 5 8 \t -2178 \t -48 \t 48 \t -60\t\n",
      "3 5 3 \t -3053 \t -48 \t 48 \t 360\t\n",
      "3 1 9 \t -2317 \t -48 \t 144 \t 72\t\n",
      "3 1 8 \t -2306 \t -48 \t 144 \t -60\t\n",
      "3 1 3 \t -3181 \t -48 \t 144 \t 360\t\n",
      "1 4 9 \t -2230 \t 96 \t -36 \t 72\t\n",
      "1 4 8 \t -2219 \t 96 \t -36 \t -60\t\n",
      "1 4 3 \t -3094 \t 96 \t -36 \t 360\t\n",
      "1 5 9 \t -2237 \t 96 \t 48 \t 72\t*\n",
      "1 5 8 \t -2226 \t 96 \t 48 \t -60\t\n",
      "1 5 3 \t -3101 \t 96 \t 48 \t 360\t*\n",
      "1 1 9 \t -2365 \t 96 \t 144 \t 72\t*\n",
      "1 1 8 \t -2354 \t 96 \t 144 \t -60\t\n",
      "1 1 3 \t -3229 \t 96 \t 144 \t 360\t*\n",
      "[-2237, -3101, -2365, -3229, -2237, -3101, -2365, -3229]\n",
      "2\n"
     ]
    }
   ],
   "source": [
    "r = np.random.randint(10, size=3)\n",
    "s = np.random.randint(10, size=3)\n",
    "t = np.random.randint(10, size=3)\n",
    "x = Symbol('x')\n",
    "y = Symbol('y')\n",
    "z = Symbol('z')\n",
    "px, py, pz = 1, 1, 1\n",
    "for i in range(3):\n",
    "    px = px * (x-r[i])\n",
    "    py = py * (y-s[i])\n",
    "    pz = pz * (z-t[i])\n",
    "g = 12*integrate(px, x) + 12*integrate(py, y) + 12*integrate(pz, z)\n",
    "vals = []\n",
    "for i in r:\n",
    "    for j in s:\n",
    "        for k in t:\n",
    "            dxx = diff(diff(g,x),x).subs([(x,i),(y,j),(z,k)])\n",
    "            dyy = diff(diff(g,y),y).subs([(x,i),(y,j),(z,k)])\n",
    "            dzz = diff(diff(g,z),z).subs([(x,i),(y,j),(z,k)])\n",
    "            v = g.subs([(x,i),(y,j),(z,k)])\n",
    "            print(i,j,k,'\\t',v,'\\t', dxx, '\\t', dyy, '\\t', dzz, end=\"\\t\")\n",
    "            if (dxx>=0 and dyy>=0 and dzz>=0):\n",
    "                print(\"*\")\n",
    "                vals.append(v)\n",
    "            else:\n",
    "                print()\n",
    "print(vals)\n",
    "print(vals.count(max(vals)))"
   ]
  },
  {
   "cell_type": "code",
   "execution_count": 68,
   "id": "e722022c",
   "metadata": {},
   "outputs": [],
   "source": [
    "def distinct(r):\n",
    "    l = len(r)\n",
    "    for i in range(l):\n",
    "        for j in range(i+1,l):\n",
    "            if(r[i]==r[j]):\n",
    "                return False\n",
    "    return True"
   ]
  },
  {
   "cell_type": "code",
   "execution_count": 67,
   "id": "c240071a",
   "metadata": {},
   "outputs": [
    {
     "name": "stdout",
     "output_type": "stream",
     "text": [
      "[0, -27, -27, -54, -27, -54, -54, -81, -27, -54, -54, -81, -54, -81, -81, -108, -27, -54, -54, -81, -54, -81, -81, -108, -54, -81, -81, -108, -81, -108, -108, -135]\n",
      "1\n",
      "32\n"
     ]
    }
   ],
   "source": [
    "n = 5\n",
    "x = symbols('x_0:{}'.format(n))\n",
    "r = [0,1,3]\n",
    "t = Symbol('t')\n",
    "p = (t - r[0]) * (t - r[1]) * (t - r[2])\n",
    "pols = [p for i in range(n)]\n",
    "for i in range(n):\n",
    "    #print(x[i])\n",
    "    pols[i] = (x[i] - r[0]) * (x[i] - r[1]) * (x[i] - r[2])\n",
    "poly = 0\n",
    "for i in range(n):\n",
    "    poly = poly + 12 * integrate(pols[i],x[i])\n",
    "values = []\n",
    "for i in range(2**n):\n",
    "    b = [int(i) for i in str(bin(i)[2:])]\n",
    "    l = len(b)\n",
    "    b = 3*np.array(np.concatenate([[0]*(n-l+1), b]))[1:]\n",
    "    substitute = [(x[i],b[i]) for i in range(n)]\n",
    "    values.append(poly.subs(substitute))\n",
    "print(values)\n",
    "print(values.count(min(values)))\n",
    "print(len(values))\n"
   ]
  },
  {
   "cell_type": "code",
   "execution_count": 39,
   "id": "12120eb6",
   "metadata": {},
   "outputs": [
    {
     "name": "stdout",
     "output_type": "stream",
     "text": [
      "[(x_0, 0), (x_1, 0), (x_2, 0)]\n",
      "[(x_0, 0), (x_1, 0), (x_2, 3)]\n",
      "[(x_0, 0), (x_1, 3), (x_2, 0)]\n",
      "[(x_0, 0), (x_1, 3), (x_2, 3)]\n",
      "[(x_0, 3), (x_1, 0), (x_2, 0)]\n",
      "[(x_0, 3), (x_1, 0), (x_2, 3)]\n",
      "[(x_0, 3), (x_1, 3), (x_2, 0)]\n",
      "[(x_0, 3), (x_1, 3), (x_2, 3)]\n"
     ]
    }
   ],
   "source": [
    "n=3\n",
    "x = symbols('x_0:{}'.format(n))\n",
    "for i in range(2**n):\n",
    "    b = [int(i) for i in str(bin(i)[2:])]\n",
    "    l = len(b)\n",
    "    b = np.array(np.concatenate([[0]*(n-l+1), b]))[1:]\n",
    "    substitute = [(x[i],b[i]*3) for i in range(n)]\n",
    "    print(substitute)\n",
    "    #print(b[1:])"
   ]
  },
  {
   "cell_type": "code",
   "execution_count": 3,
   "id": "db6680ba",
   "metadata": {},
   "outputs": [
    {
     "data": {
      "text/latex": [
       "$\\displaystyle 3 t^{4} - 12 t^{3} + 12 t^{2}$"
      ],
      "text/plain": [
       "3*t**4 - 12*t**3 + 12*t**2"
      ]
     },
     "execution_count": 3,
     "metadata": {},
     "output_type": "execute_result"
    }
   ],
   "source": [
    "t = Symbol('t')\n",
    "(expand(integrate(12*t*(t-1)*(t-2),t)))"
   ]
  }
 ],
 "metadata": {
  "kernelspec": {
   "display_name": "Python 3 (ipykernel)",
   "language": "python",
   "name": "python3"
  },
  "language_info": {
   "codemirror_mode": {
    "name": "ipython",
    "version": 3
   },
   "file_extension": ".py",
   "mimetype": "text/x-python",
   "name": "python",
   "nbconvert_exporter": "python",
   "pygments_lexer": "ipython3",
   "version": "3.11.6"
  }
 },
 "nbformat": 4,
 "nbformat_minor": 5
}

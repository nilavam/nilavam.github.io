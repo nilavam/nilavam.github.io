{
 "cells": [
  {
   "cell_type": "code",
   "execution_count": 1,
   "id": "2ef63715",
   "metadata": {
    "scrolled": true
   },
   "outputs": [],
   "source": [
    "import cvxpy as cp\n",
    "import numpy as np\n",
    "import scipy\n",
    "mat = scipy.io.loadmat('Hillary_vs_Bernie.mat')\n",
    "X = mat['features_train']\n",
    "y = mat['labels_train']\n",
    "m,n = X.shape\n",
    "Y = np.zeros((m,m),float) \n",
    "for i in range(m):\n",
    "    Y[i][i] = y[i][0]"
   ]
  },
  {
   "cell_type": "markdown",
   "id": "3894ccbc",
   "metadata": {},
   "source": [
    "\\subsection*{Fitting the model for $\\gamma \\in \\{0,1,1,10\\}$}\n",
    "\n",
    "The optimization problem \\begin{align*}\n",
    "\\min_{a,b,\\eta}&~ ||a|| + \\gamma\\left|\\left|\\eta\\right|\\right|_1\\\\\n",
    "\\text{s.t.} &~y_i(a^\\top x_i - b) \\ge 1-\\eta_i\\qquad \\forall i=1,\\cdots,m\\\\\n",
    "&~\\eta \\ge 0\n",
    "\\end{align*}\n",
    "to build a linear classifier. Corresponding to the three cases \\texttt{gamma1=0.1}, \\texttt{gamma2=1}, \\texttt{gamma3=10}, the optimal solutions are labelled as \\texttt{(a1,b1,eta1)}, \\texttt{(a2,b2,eta2)}, \\texttt{(a3,b3,eta3)} respectively.\n",
    "\n",
    "Here's how we deal with the linear separator on the given data. I formed a matrix $(Y_{\\text{train}}=)Y=diag(y_1,\\cdots,y_m)$. The rows of $(X_{\\text{train}} =) X$ are the vectors $x_i^\\top$. So $Xa-b\\pmb1$ already gives the evaluation of the linear form on these data points $\\{x_i\\}$. We want to weigh each $x_i^\\top a-b$ with $y_i$: this is achieved by taking $Y(Xa-b\\pmb 1)$ which gives a vector with $i^{\\text{th}}$ entry being $y_i(x_i^\\top a-b)$."
   ]
  },
  {
   "cell_type": "code",
   "execution_count": 2,
   "id": "9b6be8af",
   "metadata": {
    "scrolled": false
   },
   "outputs": [
    {
     "name": "stdout",
     "output_type": "stream",
     "text": [
      "===============================================================================\n",
      "                                     CVXPY                                     \n",
      "                                     v1.4.2                                    \n",
      "===============================================================================\n",
      "(CVXPY) Mar 20 09:52:49 AM: Your problem has 181 variables, 2 constraints, and 0 parameters.\n",
      "(CVXPY) Mar 20 09:52:49 AM: It is compliant with the following grammars: DCP, DQCP\n",
      "(CVXPY) Mar 20 09:52:49 AM: (If you need to solve this problem multiple times, but with different data, consider using parameters.)\n",
      "(CVXPY) Mar 20 09:52:49 AM: CVXPY will first compile your problem; then, it will invoke a numerical solver to obtain a solution.\n",
      "(CVXPY) Mar 20 09:52:49 AM: Your problem is compiled with the CPP canonicalization backend.\n",
      "-------------------------------------------------------------------------------\n",
      "                                  Compilation                                  \n",
      "-------------------------------------------------------------------------------\n",
      "(CVXPY) Mar 20 09:52:49 AM: Compiling problem (target solver=ECOS).\n",
      "(CVXPY) Mar 20 09:52:49 AM: Reduction chain: Dcp2Cone -> CvxAttr2Constr -> ConeMatrixStuffing -> ECOS\n",
      "(CVXPY) Mar 20 09:52:49 AM: Applying reduction Dcp2Cone\n",
      "(CVXPY) Mar 20 09:52:49 AM: Applying reduction CvxAttr2Constr\n",
      "(CVXPY) Mar 20 09:52:49 AM: Applying reduction ConeMatrixStuffing\n",
      "(CVXPY) Mar 20 09:52:49 AM: Applying reduction ECOS\n",
      "(CVXPY) Mar 20 09:52:49 AM: Finished problem compilation (took 1.305e-02 seconds).\n",
      "-------------------------------------------------------------------------------\n",
      "                                Numerical solver                               \n",
      "-------------------------------------------------------------------------------\n",
      "(CVXPY) Mar 20 09:52:49 AM: Invoking solver ECOS  to obtain a solution.\n",
      "-------------------------------------------------------------------------------\n",
      "                                    Summary                                    \n",
      "-------------------------------------------------------------------------------\n",
      "(CVXPY) Mar 20 09:52:49 AM: Problem status: optimal\n",
      "(CVXPY) Mar 20 09:52:49 AM: Optimal value: 1.057e+01\n",
      "(CVXPY) Mar 20 09:52:49 AM: Compilation took 1.305e-02 seconds\n",
      "(CVXPY) Mar 20 09:52:49 AM: Solver (including time spent in interface) took 4.034e-03 seconds\n",
      "10.57269665702442\n",
      "\n",
      "Optimal a:  [ 0.14105247  0.18277618 -0.73224986 -0.10977297  0.38083898] \n",
      "Optimal b: [-3.14700164]\n"
     ]
    }
   ],
   "source": [
    "gamma1 = 0.1\n",
    "a1 = cp.Variable(n, 'a1')\n",
    "b1 = cp.Variable(1,'b1')\n",
    "eta1 = cp.Variable(m, 'eta1')\n",
    "obj1 = cp.norm(a1) + gamma1 * (cp.norm(eta1,1))\n",
    "cons1 = [Y@(X@a1-b1) + eta1 >= 1, eta1 >= 0]\n",
    "problem1 = cp.Problem(cp.Minimize(obj1), cons1)\n",
    "print(problem1.solve(verbose = True, solver = cp.ECOS))\n",
    "print(\"\\nOptimal a: \", a1.value, \"\\nOptimal b:\", b1.value)"
   ]
  },
  {
   "cell_type": "code",
   "execution_count": 3,
   "id": "635a1fc0",
   "metadata": {
    "scrolled": false
   },
   "outputs": [
    {
     "name": "stdout",
     "output_type": "stream",
     "text": [
      "===============================================================================\n",
      "                                     CVXPY                                     \n",
      "                                     v1.4.2                                    \n",
      "===============================================================================\n",
      "(CVXPY) Mar 20 09:52:49 AM: Your problem has 181 variables, 2 constraints, and 0 parameters.\n",
      "(CVXPY) Mar 20 09:52:49 AM: It is compliant with the following grammars: DCP, DQCP\n",
      "(CVXPY) Mar 20 09:52:49 AM: (If you need to solve this problem multiple times, but with different data, consider using parameters.)\n",
      "(CVXPY) Mar 20 09:52:49 AM: CVXPY will first compile your problem; then, it will invoke a numerical solver to obtain a solution.\n",
      "(CVXPY) Mar 20 09:52:49 AM: Your problem is compiled with the CPP canonicalization backend.\n",
      "-------------------------------------------------------------------------------\n",
      "                                  Compilation                                  \n",
      "-------------------------------------------------------------------------------\n",
      "(CVXPY) Mar 20 09:52:49 AM: Compiling problem (target solver=ECOS).\n",
      "(CVXPY) Mar 20 09:52:49 AM: Reduction chain: Dcp2Cone -> CvxAttr2Constr -> ConeMatrixStuffing -> ECOS\n",
      "(CVXPY) Mar 20 09:52:49 AM: Applying reduction Dcp2Cone\n",
      "(CVXPY) Mar 20 09:52:49 AM: Applying reduction CvxAttr2Constr\n",
      "(CVXPY) Mar 20 09:52:49 AM: Applying reduction ConeMatrixStuffing\n",
      "(CVXPY) Mar 20 09:52:49 AM: Applying reduction ECOS\n",
      "(CVXPY) Mar 20 09:52:49 AM: Finished problem compilation (took 9.276e-03 seconds).\n",
      "-------------------------------------------------------------------------------\n",
      "                                Numerical solver                               \n",
      "-------------------------------------------------------------------------------\n",
      "(CVXPY) Mar 20 09:52:49 AM: Invoking solver ECOS  to obtain a solution.\n",
      "-------------------------------------------------------------------------------\n",
      "                                    Summary                                    \n",
      "-------------------------------------------------------------------------------\n",
      "(CVXPY) Mar 20 09:52:49 AM: Problem status: optimal\n",
      "(CVXPY) Mar 20 09:52:49 AM: Optimal value: 8.944e+01\n",
      "(CVXPY) Mar 20 09:52:49 AM: Compilation took 9.276e-03 seconds\n",
      "(CVXPY) Mar 20 09:52:49 AM: Solver (including time spent in interface) took 3.277e-03 seconds\n",
      "89.43653660717314\n",
      "\n",
      "Optimal a:  [ 0.20864823 -0.97870147 -1.62007281 -0.4604091   3.76855067] \n",
      "Optimal b: [-9.24105061]\n"
     ]
    }
   ],
   "source": [
    "gamma2 = 1\n",
    "a2 = cp.Variable(n, 'a2')\n",
    "b2 = cp.Variable(1,'b2')\n",
    "eta2 = cp.Variable(m, 'eta2')\n",
    "obj2 = cp.norm(a2) + gamma2 * (cp.norm(eta2,1))\n",
    "cons2 = [Y@(X@a2-b2) + eta2 >= 1, eta2 >= 0]\n",
    "problem2 = cp.Problem(cp.Minimize(obj2), cons2)\n",
    "print(problem2.solve(verbose = True, solver = cp.ECOS))\n",
    "print(\"\\nOptimal a: \", a2.value, \"\\nOptimal b:\", b2.value)"
   ]
  },
  {
   "cell_type": "code",
   "execution_count": 4,
   "id": "fdfd3d4f",
   "metadata": {
    "scrolled": false
   },
   "outputs": [
    {
     "name": "stdout",
     "output_type": "stream",
     "text": [
      "===============================================================================\n",
      "                                     CVXPY                                     \n",
      "                                     v1.4.2                                    \n",
      "===============================================================================\n",
      "(CVXPY) Mar 20 09:52:49 AM: Your problem has 181 variables, 2 constraints, and 0 parameters.\n",
      "(CVXPY) Mar 20 09:52:49 AM: It is compliant with the following grammars: DCP, DQCP\n",
      "(CVXPY) Mar 20 09:52:49 AM: (If you need to solve this problem multiple times, but with different data, consider using parameters.)\n",
      "(CVXPY) Mar 20 09:52:49 AM: CVXPY will first compile your problem; then, it will invoke a numerical solver to obtain a solution.\n",
      "(CVXPY) Mar 20 09:52:49 AM: Your problem is compiled with the CPP canonicalization backend.\n",
      "-------------------------------------------------------------------------------\n",
      "                                  Compilation                                  \n",
      "-------------------------------------------------------------------------------\n",
      "(CVXPY) Mar 20 09:52:49 AM: Compiling problem (target solver=ECOS).\n",
      "(CVXPY) Mar 20 09:52:49 AM: Reduction chain: Dcp2Cone -> CvxAttr2Constr -> ConeMatrixStuffing -> ECOS\n",
      "(CVXPY) Mar 20 09:52:49 AM: Applying reduction Dcp2Cone\n",
      "(CVXPY) Mar 20 09:52:49 AM: Applying reduction CvxAttr2Constr\n",
      "(CVXPY) Mar 20 09:52:49 AM: Applying reduction ConeMatrixStuffing\n",
      "(CVXPY) Mar 20 09:52:49 AM: Applying reduction ECOS\n",
      "(CVXPY) Mar 20 09:52:49 AM: Finished problem compilation (took 1.229e-02 seconds).\n",
      "-------------------------------------------------------------------------------\n",
      "                                Numerical solver                               \n",
      "-------------------------------------------------------------------------------\n",
      "(CVXPY) Mar 20 09:52:49 AM: Invoking solver ECOS  to obtain a solution.\n",
      "-------------------------------------------------------------------------------\n",
      "                                    Summary                                    \n",
      "-------------------------------------------------------------------------------\n",
      "(CVXPY) Mar 20 09:52:49 AM: Problem status: optimal\n",
      "(CVXPY) Mar 20 09:52:49 AM: Optimal value: 8.524e+02\n",
      "(CVXPY) Mar 20 09:52:49 AM: Compilation took 1.229e-02 seconds\n",
      "(CVXPY) Mar 20 09:52:49 AM: Solver (including time spent in interface) took 3.183e-03 seconds\n",
      "852.4305773711759\n",
      "\n",
      "Optimal a:  [ 0.15062914 -0.91314802 -1.52389243 -0.4642144   4.82133807] \n",
      "Optimal b: [-8.80471718]\n"
     ]
    }
   ],
   "source": [
    "gamma3 = 10\n",
    "a3 = cp.Variable(n, 'a3')\n",
    "b3 = cp.Variable(1,'b3')\n",
    "eta3 = cp.Variable(m, 'eta3')\n",
    "obj3 = cp.norm(a3) + gamma3 * (cp.norm(eta3,1))\n",
    "cons3 = [Y@(X@a3-b3) + eta3 >= 1, eta3 >= 0]\n",
    "problem3 = cp.Problem(cp.Minimize(obj3), cons3)\n",
    "print(problem3.solve(verbose = True, solver = cp.ECOS))\n",
    "print(\"\\nOptimal a: \", a3.value, \"\\nOptimal b:\", b3.value)"
   ]
  },
  {
   "cell_type": "markdown",
   "id": "e1fea83c",
   "metadata": {},
   "source": [
    "\\subsection*{Predicting}\n",
    "\n",
    "First we load the test data. As above, we make a matrix $Y_{\\text{test}}$."
   ]
  },
  {
   "cell_type": "code",
   "execution_count": 5,
   "id": "e5e044c9",
   "metadata": {},
   "outputs": [],
   "source": [
    "Xtest = mat['features_test']\n",
    "ytest = mat['labels_test']\n",
    "mtest, ntest = Xtest.shape\n",
    "Ytest = np.zeros((mtest,mtest),float) \n",
    "for i in range(mtest):\n",
    "    Ytest[i][i] = ytest[i][0]"
   ]
  },
  {
   "cell_type": "markdown",
   "id": "5c978c49",
   "metadata": {},
   "source": [
    "We only need to find which side of the hyperplane $\\{x~|~x^\\top a=b\\}$ the test data points are - this is obtained by checking whether $y_j = sgn(x_j^\\top a-b)$, or equivalently, $y_j\\cdot (x_j^\\top a-b)>0$. So again we consider the vector $Y_{\\text{test}}(X_{\\text{test}}a-b\\pmb 1)$ and find out how many of them have non-positive entries - the lower this number, the better is the prediction."
   ]
  },
  {
   "cell_type": "code",
   "execution_count": 6,
   "id": "329092d4",
   "metadata": {},
   "outputs": [
    {
     "name": "stdout",
     "output_type": "stream",
     "text": [
      "1\n",
      "2\n",
      "2\n"
     ]
    }
   ],
   "source": [
    "print(sum(Ytest@(Xtest@a1.value-b1.value)<=0))\n",
    "print(sum(Ytest@(Xtest@a2.value-b2.value)<=0))\n",
    "print(sum(Ytest@(Xtest@a3.value-b3.value)<=0))"
   ]
  },
  {
   "cell_type": "code",
   "execution_count": 7,
   "id": "a01ccb8c",
   "metadata": {},
   "outputs": [
    {
     "data": {
      "text/plain": [
       "array([ 0.14105247,  0.18277618, -0.73224986, -0.10977297,  0.38083898])"
      ]
     },
     "execution_count": 7,
     "metadata": {},
     "output_type": "execute_result"
    }
   ],
   "source": [
    "a1.value"
   ]
  }
 ],
 "metadata": {
  "kernelspec": {
   "display_name": "Python 3 (ipykernel)",
   "language": "python",
   "name": "python3"
  },
  "language_info": {
   "codemirror_mode": {
    "name": "ipython",
    "version": 3
   },
   "file_extension": ".py",
   "mimetype": "text/x-python",
   "name": "python",
   "nbconvert_exporter": "python",
   "pygments_lexer": "ipython3",
   "version": "3.11.6"
  }
 },
 "nbformat": 4,
 "nbformat_minor": 5
}

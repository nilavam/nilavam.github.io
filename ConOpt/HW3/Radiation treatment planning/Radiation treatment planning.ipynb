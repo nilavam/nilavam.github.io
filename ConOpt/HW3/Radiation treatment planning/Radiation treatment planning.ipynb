{
 "cells": [
  {
   "cell_type": "code",
   "execution_count": 1,
   "id": "f8321da7",
   "metadata": {},
   "outputs": [],
   "source": [
    "import cvxpy as cp\n",
    "import numpy as np\n",
    "import matplotlib.pyplot as plt"
   ]
  },
  {
   "cell_type": "code",
   "execution_count": 2,
   "id": "8d671183",
   "metadata": {},
   "outputs": [],
   "source": [
    "# Load data\n",
    "n = 300\n",
    "mtumor = 100\n",
    "mother = 400\n",
    "Atumor = np.loadtxt('Atumor.csv', delimiter=',')\n",
    "Aother = np.loadtxt('Aother.csv', delimiter=',')\n",
    "Bmax = 10\n",
    "Dtarget = 1\n",
    "Dother = 0.25"
   ]
  },
  {
   "cell_type": "code",
   "execution_count": 3,
   "id": "a547b0dc",
   "metadata": {},
   "outputs": [
    {
     "data": {
      "text/plain": [
       "(100, 400, 300)"
      ]
     },
     "execution_count": 3,
     "metadata": {},
     "output_type": "execute_result"
    }
   ],
   "source": [
    "tumor,n = Atumor.shape\n",
    "other,n = Aother.shape\n",
    "tumor,other,n"
   ]
  },
  {
   "cell_type": "markdown",
   "id": "6faaf803",
   "metadata": {},
   "source": [
    "So $\\mathcal T = \\{1,2,\\cdots,100\\},n=300,m=500$. Recall that the doses were given by $d=Ab$."
   ]
  },
  {
   "cell_type": "markdown",
   "id": "5f7588a6",
   "metadata": {},
   "source": [
    "### Solving the original optimization problem\n",
    "\n",
    "Here we solve the problem \n",
    "\\begin{align*}\n",
    "\\min &~\\sum_{i\\notin \\cal T} \\max(d_{i}-D^{\\text{other}},0)\\\\\n",
    "\\text{s.t.} &~d = Ab\\\\\n",
    "&~ d_{i}\\ge D^{\\text{target}}~\\forall i\\in\\cal T\\\\\n",
    "&~ 0\\le b_{i} \\le B^{\\max} ~\\forall 1\\le i\\le n\n",
    "\\end{align*}"
   ]
  },
  {
   "cell_type": "code",
   "execution_count": 4,
   "id": "4312e0a4",
   "metadata": {},
   "outputs": [
    {
     "name": "stdout",
     "output_type": "stream",
     "text": [
      "===============================================================================\n",
      "                                     CVXPY                                     \n",
      "                                     v1.4.2                                    \n",
      "===============================================================================\n",
      "(CVXPY) Mar 19 06:40:33 PM: Your problem has 800 variables, 5 constraints, and 0 parameters.\n",
      "(CVXPY) Mar 19 06:40:33 PM: It is compliant with the following grammars: DCP, DQCP\n",
      "(CVXPY) Mar 19 06:40:33 PM: (If you need to solve this problem multiple times, but with different data, consider using parameters.)\n",
      "(CVXPY) Mar 19 06:40:33 PM: CVXPY will first compile your problem; then, it will invoke a numerical solver to obtain a solution.\n",
      "(CVXPY) Mar 19 06:40:33 PM: Your problem is compiled with the CPP canonicalization backend.\n",
      "-------------------------------------------------------------------------------\n",
      "                                  Compilation                                  \n",
      "-------------------------------------------------------------------------------\n",
      "(CVXPY) Mar 19 06:40:33 PM: Compiling problem (target solver=ECOS).\n",
      "(CVXPY) Mar 19 06:40:33 PM: Reduction chain: Dcp2Cone -> CvxAttr2Constr -> ConeMatrixStuffing -> ECOS\n",
      "(CVXPY) Mar 19 06:40:33 PM: Applying reduction Dcp2Cone\n",
      "(CVXPY) Mar 19 06:40:33 PM: Applying reduction CvxAttr2Constr\n",
      "(CVXPY) Mar 19 06:40:33 PM: Applying reduction ConeMatrixStuffing\n",
      "(CVXPY) Mar 19 06:40:33 PM: Applying reduction ECOS\n",
      "(CVXPY) Mar 19 06:40:33 PM: Finished problem compilation (took 1.760e-02 seconds).\n",
      "-------------------------------------------------------------------------------\n",
      "                                Numerical solver                               \n",
      "-------------------------------------------------------------------------------\n",
      "(CVXPY) Mar 19 06:40:33 PM: Invoking solver ECOS  to obtain a solution.\n",
      "-------------------------------------------------------------------------------\n",
      "                                    Summary                                    \n",
      "-------------------------------------------------------------------------------\n",
      "(CVXPY) Mar 19 06:40:33 PM: Problem status: optimal\n",
      "(CVXPY) Mar 19 06:40:33 PM: Optimal value: 1.388e+00\n",
      "(CVXPY) Mar 19 06:40:33 PM: Compilation took 1.760e-02 seconds\n",
      "(CVXPY) Mar 19 06:40:33 PM: Solver (including time spent in interface) took 1.676e-01 seconds\n"
     ]
    },
    {
     "data": {
      "text/plain": [
       "1.3882005424049697"
      ]
     },
     "execution_count": 4,
     "metadata": {},
     "output_type": "execute_result"
    }
   ],
   "source": [
    "dtumor = cp.Variable(tumor, 'dtumor')\n",
    "dother = cp.Variable(other, 'dother')\n",
    "b = cp.Variable(n, 'b')\n",
    "f = cp.maximum(dother - Dother, 0)\n",
    "obj = cp.sum(f)\n",
    "cons = [Aother @ b == dother, Atumor @ b == dtumor, dtumor >= Dtarget, b >= 0, Bmax >= b]\n",
    "problem = cp.Problem(cp.Minimize(obj), cons)\n",
    "problem.solve(verbose = True, solver = cp.ECOS)"
   ]
  },
  {
   "cell_type": "code",
   "execution_count": 5,
   "id": "cfea5920",
   "metadata": {
    "scrolled": false
   },
   "outputs": [
    {
     "data": {
      "image/png": "[encoded data removed]",
      "text/plain": [
       "<Figure size 640x480 with 1 Axes>"
      ]
     },
     "metadata": {},
     "output_type": "display_data"
    }
   ],
   "source": [
    "#d = np.concatenate(np.array(dother.value), np.array(dtumor.value))\n",
    "d = [0] * (tumor+other)\n",
    "for i in range(tumor):\n",
    "    d[i] = dtumor.value[i]\n",
    "for i in range(other):\n",
    "    d[i+tumor] = dother.value[i]\n",
    "plt.hist(d, bins=225)\n",
    "plt.xticks(np.arange(0, 2.25, 0.25))\n",
    "plt.show()"
   ]
  },
  {
   "cell_type": "markdown",
   "id": "6c86736a",
   "metadata": {},
   "source": [
    "### Solving the (coverted) linear optimization problem\n",
    "\n",
    "\\begin{align*}\n",
    "\\min &~\\sum_{i\\notin \\cal T} u_{i}\\\\\n",
    "\\text{s.t.} &~d = Ab\\\\\n",
    "&~ d_{i}\\ge D^{\\text{target}}~\\forall i\\in\\cal T\\\\\n",
    "&~ 0\\le b_{i} \\le B^{\\max} ~\\forall 1\\le i\\le n\\\\\n",
    "&~0 \\le u_i \\le d_{i}-D^{\\text{other}} ~\\forall 1\\le i\\le m, i\\notin \\cal T.\n",
    "\\end{align*}"
   ]
  },
  {
   "cell_type": "code",
   "execution_count": 6,
   "id": "26847d94",
   "metadata": {},
   "outputs": [
    {
     "name": "stdout",
     "output_type": "stream",
     "text": [
      "===============================================================================\n",
      "                                     CVXPY                                     \n",
      "                                     v1.4.2                                    \n",
      "===============================================================================\n",
      "(CVXPY) Mar 19 06:40:33 PM: Your problem has 1200 variables, 7 constraints, and 0 parameters.\n",
      "(CVXPY) Mar 19 06:40:33 PM: It is compliant with the following grammars: DCP, DQCP\n",
      "(CVXPY) Mar 19 06:40:33 PM: (If you need to solve this problem multiple times, but with different data, consider using parameters.)\n",
      "(CVXPY) Mar 19 06:40:33 PM: CVXPY will first compile your problem; then, it will invoke a numerical solver to obtain a solution.\n",
      "(CVXPY) Mar 19 06:40:33 PM: Your problem is compiled with the CPP canonicalization backend.\n",
      "-------------------------------------------------------------------------------\n",
      "                                  Compilation                                  \n",
      "-------------------------------------------------------------------------------\n",
      "(CVXPY) Mar 19 06:40:33 PM: Compiling problem (target solver=ECOS).\n",
      "(CVXPY) Mar 19 06:40:33 PM: Reduction chain: Dcp2Cone -> CvxAttr2Constr -> ConeMatrixStuffing -> ECOS\n",
      "(CVXPY) Mar 19 06:40:33 PM: Applying reduction Dcp2Cone\n",
      "(CVXPY) Mar 19 06:40:33 PM: Applying reduction CvxAttr2Constr\n",
      "(CVXPY) Mar 19 06:40:33 PM: Applying reduction ConeMatrixStuffing\n",
      "(CVXPY) Mar 19 06:40:33 PM: Applying reduction ECOS\n",
      "(CVXPY) Mar 19 06:40:33 PM: Finished problem compilation (took 2.240e-02 seconds).\n",
      "-------------------------------------------------------------------------------\n",
      "                                Numerical solver                               \n",
      "-------------------------------------------------------------------------------\n",
      "(CVXPY) Mar 19 06:40:33 PM: Invoking solver ECOS  to obtain a solution.\n",
      "-------------------------------------------------------------------------------\n",
      "                                    Summary                                    \n",
      "-------------------------------------------------------------------------------\n",
      "(CVXPY) Mar 19 06:40:33 PM: Problem status: optimal\n",
      "(CVXPY) Mar 19 06:40:33 PM: Optimal value: 1.388e+00\n",
      "(CVXPY) Mar 19 06:40:33 PM: Compilation took 2.240e-02 seconds\n",
      "(CVXPY) Mar 19 06:40:33 PM: Solver (including time spent in interface) took 1.834e-01 seconds\n"
     ]
    },
    {
     "data": {
      "text/plain": [
       "1.3882005424141164"
      ]
     },
     "execution_count": 6,
     "metadata": {},
     "output_type": "execute_result"
    }
   ],
   "source": [
    "u = cp.Variable(other, 'u')\n",
    "dtumor = cp.Variable(tumor, 'dtumor')\n",
    "dother = cp.Variable(other, 'dother')\n",
    "b = cp.Variable(n, 'b')\n",
    "f = cp.maximum(dother - Dother, 0)\n",
    "obj = cp.sum(f)\n",
    "cons = [Aother @ b == dother, Atumor @ b == dtumor, dtumor >= Dtarget, b >= 0, Bmax >= b, u >= 0, u >= dother - Dother]\n",
    "problem = cp.Problem(cp.Minimize(obj), cons)\n",
    "problem.solve(verbose = True, solver = cp.ECOS)"
   ]
  },
  {
   "cell_type": "code",
   "execution_count": 7,
   "id": "01bcfe96",
   "metadata": {},
   "outputs": [
    {
     "data": {
      "image/png": "[encoded data removed]",
      "text/plain": [
       "<Figure size 640x480 with 1 Axes>"
      ]
     },
     "metadata": {},
     "output_type": "display_data"
    }
   ],
   "source": [
    "#d = np.concatenate(np.array(dother.value), np.array(dtumor.value))\n",
    "d = [0] * (tumor+other)\n",
    "for i in range(tumor):\n",
    "    d[i] = dtumor.value[i]\n",
    "for i in range(other):\n",
    "    d[i+tumor] = dother.value[i]\n",
    "plt.hist(d, bins=225)\n",
    "plt.xticks(np.arange(0, 2.25, 0.25))\n",
    "plt.show()"
   ]
  },
  {
   "cell_type": "markdown",
   "id": "3066aa01",
   "metadata": {},
   "source": [
    "So both of these optimization problems give the same solution."
   ]
  }
 ],
 "metadata": {
  "kernelspec": {
   "display_name": "Python 3 (ipykernel)",
   "language": "python",
   "name": "python3"
  },
  "language_info": {
   "codemirror_mode": {
    "name": "ipython",
    "version": 3
   },
   "file_extension": ".py",
   "mimetype": "text/x-python",
   "name": "python",
   "nbconvert_exporter": "python",
   "pygments_lexer": "ipython3",
   "version": "3.11.6"
  }
 },
 "nbformat": 4,
 "nbformat_minor": 5
}

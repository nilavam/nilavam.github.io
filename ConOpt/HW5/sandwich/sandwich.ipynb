{
 "cells": [
  {
   "cell_type": "code",
   "execution_count": 71,
   "id": "1c74e3c0",
   "metadata": {},
   "outputs": [
    {
     "name": "stdout",
     "output_type": "stream",
     "text": [
      "[[0 0 0 0 0]\n",
      " [0 0 0 1 0]\n",
      " [0 0 0 0 0]\n",
      " [0 0 0 0 0]\n",
      " [0 0 0 0 0]]\n"
     ]
    }
   ],
   "source": [
    "import numpy as np\n",
    "import cvxpy as cp\n",
    "\n",
    "n = 5\n",
    "J = np.array([[1, 1, 1, 1, 1], [1, 1, 1, 1, 1], [1, 1, 1, 1, 1], [1, 1, 1, 1, 1], [1, 1, 1, 1, 1]])\n",
    "e = [[1,0,0,0,0], [0,1,0,0,0], [0,0,1,0,0], [0,0,0,1,0], [0,0,0,0,1]]\n",
    "id = np.array(e)\n",
    "def E(i,j):\n",
    "    return np.outer(np.array(e[i]), np.array(e[j])) #+ np.outer(np.array(e[j]), np.array(e[i]))\n",
    "\n",
    "print(E(1,3))\n"
   ]
  },
  {
   "cell_type": "code",
   "execution_count": 72,
   "id": "b3031494",
   "metadata": {},
   "outputs": [
    {
     "name": "stdout",
     "output_type": "stream",
     "text": [
      "2.2360675147417393 \n",
      "\n",
      "[[0.2  0.   0.12 0.12 0.  ]\n",
      " [0.   0.2  0.   0.12 0.12]\n",
      " [0.12 0.   0.2  0.   0.12]\n",
      " [0.12 0.12 0.   0.2  0.  ]\n",
      " [0.   0.12 0.12 0.   0.2 ]]\n"
     ]
    }
   ],
   "source": [
    "#primal\n",
    "X = cp.Variable((n,n), symmetric=True)\n",
    "constraints = [X >> 0, cp.trace(X) == 1]\n",
    "for i in range(n):\n",
    "    constraints.append(cp.trace(E(i,(i+1)%n) @ X) == 0)\n",
    "constraints\n",
    "prob = cp.Problem(cp.Maximize(cp.trace(J @ X)), constraints)\n",
    "print(prob.solve(),\"\\n\")\n",
    "print(np.round(X.value,2))"
   ]
  },
  {
   "cell_type": "code",
   "execution_count": 73,
   "id": "32be389d",
   "metadata": {},
   "outputs": [
    {
     "name": "stdout",
     "output_type": "stream",
     "text": [
      "True\n"
     ]
    },
    {
     "data": {
      "text/plain": [
       "2.2"
      ]
     },
     "execution_count": 73,
     "metadata": {},
     "output_type": "execute_result"
    }
   ],
   "source": [
    "P = np.round(X.value,2)\n",
    "print(np.all(np.linalg.eigvals(P) > 0))\n",
    "np.trace(J @ P)"
   ]
  },
  {
   "cell_type": "code",
   "execution_count": 74,
   "id": "554603ae",
   "metadata": {},
   "outputs": [
    {
     "name": "stdout",
     "output_type": "stream",
     "text": [
      "2.236067810454115 \n",
      "\n",
      "[[ 0.   -0.   -1.38 -1.38 -0.  ]\n",
      " [-0.    0.   -0.   -1.38 -1.38]\n",
      " [-1.38 -0.    0.   -0.   -1.38]\n",
      " [-1.38 -1.38 -0.    0.   -0.  ]\n",
      " [-0.   -1.38 -1.38 -0.    0.  ]]\n"
     ]
    }
   ],
   "source": [
    "#dual\n",
    "Y = cp.Variable((n,n), symmetric=True)\n",
    "t = cp.Variable()\n",
    "constraints = [t*id >> Y + J]\n",
    "for i in range(n):\n",
    "    constraints.append(cp.trace(E(i,i) @ Y) == 0)\n",
    "for i in range(n):\n",
    "    constraints.append(cp.trace(E(i,(i+1)%5) @ Y) == 0)\n",
    "\n",
    "prob = cp.Problem(cp.Minimize(t), constraints)\n",
    "print(prob.solve(),\"\\n\")\n",
    "print(np.round(Y.value,2))"
   ]
  },
  {
   "cell_type": "markdown",
   "id": "db697e70",
   "metadata": {},
   "source": [
    "\\\n",
    "\n",
    "Let's try it out with the above matrix."
   ]
  },
  {
   "cell_type": "code",
   "execution_count": 75,
   "id": "e26b197e",
   "metadata": {},
   "outputs": [
    {
     "name": "stdout",
     "output_type": "stream",
     "text": [
      "True\n"
     ]
    },
    {
     "data": {
      "text/plain": [
       "array([[ 1.4 , -1.  ,  0.38,  0.38, -1.  ],\n",
       "       [-1.  ,  1.4 , -1.  ,  0.38,  0.38],\n",
       "       [ 0.38, -1.  ,  1.4 , -1.  ,  0.38],\n",
       "       [ 0.38,  0.38, -1.  ,  1.4 , -1.  ],\n",
       "       [-1.  ,  0.38,  0.38, -1.  ,  1.4 ]])"
      ]
     },
     "execution_count": 75,
     "metadata": {},
     "output_type": "execute_result"
    }
   ],
   "source": [
    "t = 2.4\n",
    "M = t*id - np.round(Y.value,2) - J\n",
    "print(np.all(np.linalg.eigvals(M) > 0))\n",
    "M"
   ]
  },
  {
   "cell_type": "code",
   "execution_count": 84,
   "id": "dc48dda5",
   "metadata": {},
   "outputs": [
    {
     "name": "stdout",
     "output_type": "stream",
     "text": [
      "False\n"
     ]
    },
    {
     "data": {
      "text/plain": [
       "array([[1.  , 0.  , 1.38, 1.38, 0.  , 1.  ],\n",
       "       [0.  , 1.  , 0.  , 1.38, 1.38, 1.  ],\n",
       "       [1.38, 0.  , 1.  , 0.  , 1.38, 1.  ],\n",
       "       [1.38, 1.38, 0.  , 1.  , 0.  , 1.  ],\n",
       "       [0.  , 1.38, 1.38, 0.  , 1.  , 1.  ],\n",
       "       [1.  , 1.  , 1.  , 1.  , 1.  , 2.4 ]])"
      ]
     },
     "execution_count": 84,
     "metadata": {},
     "output_type": "execute_result"
    }
   ],
   "source": [
    "#dual as mentioned in problem set\n",
    "J1 = np.array([[1, 1, 1, 1, 1, 0], [1, 1, 1, 1, 1, 0], [1, 1, 1, 1, 1, 0], [1, 1, 1, 1, 1, 0], [1, 1, 1, 1, 1, 0], [0,0,0,0,0,0]])\n",
    "Z = np.array([[0, -1, 0.38, 0.38, -1, 1],\n",
    "              [-1, 0, -1, 0.38, 0.38,1],\n",
    "              [ 0.38, -1, 0, -1, 0.38,1],\n",
    "              [ 0.38, 0.38, -1, 0, -1, 1],\n",
    "              [-1, 0.38, 0.38, -1, 0,1],\n",
    "              [1,1,1,1,1,t]])\n",
    "print(np.all(np.linalg.eigvals(Z+J1) > 0))\n",
    "Z+J1"
   ]
  }
 ],
 "metadata": {
  "kernelspec": {
   "display_name": "Python 3 (ipykernel)",
   "language": "python",
   "name": "python3"
  },
  "language_info": {
   "codemirror_mode": {
    "name": "ipython",
    "version": 3
   },
   "file_extension": ".py",
   "mimetype": "text/x-python",
   "name": "python",
   "nbconvert_exporter": "python",
   "pygments_lexer": "ipython3",
   "version": "3.11.6"
  }
 },
 "nbformat": 4,
 "nbformat_minor": 5
}

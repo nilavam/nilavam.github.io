{
 "cells": [
  {
   "cell_type": "markdown",
   "id": "1d6aa6d1",
   "metadata": {},
   "source": [
    "\\section*{Loading and initializing}"
   ]
  },
  {
   "cell_type": "code",
   "execution_count": 1,
   "id": "0f2b78cc",
   "metadata": {},
   "outputs": [],
   "source": [
    "import numpy as np\n",
    "import cvxpy as cp\n",
    "import scipy\n",
    "mat = scipy.io.loadmat('Graph.mat')\n",
    "G = mat['G']"
   ]
  },
  {
   "cell_type": "code",
   "execution_count": 2,
   "id": "6123470b",
   "metadata": {},
   "outputs": [],
   "source": [
    "n = len(G)\n",
    "one = [1 for i in range(n)]\n",
    "J = np.outer(one, one)\n",
    "\n",
    "#auxiliary method to check if the list of vertices v forms a clique in graph\n",
    "def isClique(v):\n",
    "    l = len(v)\n",
    "    for i in range(l):\n",
    "        for j in range(i+1,l):\n",
    "            if(G[v[i]][v[j]] == 0):\n",
    "                return False\n",
    "    return True\n",
    "\n",
    "#auxiliary method to check if the list of vertices v forms a stable set in graph\n",
    "def isStable(v):\n",
    "    l = len(v)\n",
    "    for i in range(l):\n",
    "        for j in range(i+1,l):\n",
    "            if(G[v[i]][v[j]] == 1):\n",
    "                return False\n",
    "    return True"
   ]
  },
  {
   "cell_type": "markdown",
   "id": "154d53f6",
   "metadata": {},
   "source": [
    "\\\n",
    "\n",
    "\\section*{Solving SDP(s) and bound on $\\alpha(G)$}\n",
    "\n",
    "This solves the original Lovasz SDP: \n",
    "\\begin{equation}\\tag{($P$)}\n",
    "\\begin{aligned}\n",
    "\\max_{X \\in S^{n}}&~ \\text{Tr}(JX) \\\\\n",
    "\\text { s.t. } &~\\text{Tr}(X) = 1\\\\\n",
    "&~X_{i j} = 0 ~\\forall\\{i, j\\} \\in E \\\\\n",
    "&~X \\succeq 0 \n",
    "\\end{aligned}\n",
    "\\end{equation}  "
   ]
  },
  {
   "cell_type": "code",
   "execution_count": 3,
   "id": "370edeac",
   "metadata": {},
   "outputs": [
    {
     "name": "stdout",
     "output_type": "stream",
     "text": [
      "5.000000081544538 \n",
      "\n"
     ]
    }
   ],
   "source": [
    "X = cp.Variable((n,n), symmetric=True)\n",
    "constraints = [X >> 0, cp.trace(X) == 1]\n",
    "for i in range(n):\n",
    "    for j in range(i,n):\n",
    "        if(G[i][j] == 1):\n",
    "            constraints.append(X[i][j] == 0)\n",
    "constraints\n",
    "prob = cp.Problem(cp.Maximize(cp.trace(J @ X)), constraints)\n",
    "print(prob.solve(),\"\\n\")"
   ]
  },
  {
   "cell_type": "markdown",
   "id": "6685d6e4",
   "metadata": {},
   "source": [
    "\\\\\n",
    "\n",
    "The following solves the modified SDP given in the problem set:\n",
    "\\begin{equation}\\tag{($D'$)}\n",
    "\\begin{aligned}\n",
    "\\min _{Z \\in S^{n+1}}&~ Z_{n+1, n+1} \\\\\n",
    "\\text { s.t. } &~Z_{n+1, i}=Z_{i i}=1, i=1, \\ldots, n \\\\\n",
    "&~Z_{i j}=0 \\text { if }\\{i, j\\} \\in \\bar{E} \\\\\n",
    "&~Z \\succeq 0 .\n",
    "\\end{aligned}\n",
    "\\end{equation}"
   ]
  },
  {
   "cell_type": "code",
   "execution_count": 4,
   "id": "8ff726cd",
   "metadata": {},
   "outputs": [
    {
     "name": "stdout",
     "output_type": "stream",
     "text": [
      "4.999970218323207 \n",
      "\n"
     ]
    }
   ],
   "source": [
    "Z = cp.Variable((n+1,n+1), symmetric=True)\n",
    "constraints = [Z >> 0]\n",
    "for i in range(n):\n",
    "    constraints.append(Z[i][n] == Z[i][i])\n",
    "    constraints.append(Z[i][i] == 1)\n",
    "    for j in range(i+1,n):\n",
    "        if(G[i][j] == 0):\n",
    "            constraints.append(Z[i][j] == 0)\n",
    "constraints\n",
    "prob = cp.Problem(cp.Minimize(Z[n][n]), constraints)\n",
    "print(prob.solve(),\"\\n\")"
   ]
  },
  {
   "cell_type": "markdown",
   "id": "2f54c8d7",
   "metadata": {},
   "source": [
    "\\\\\n",
    "\n",
    "Here we solve the dual of the original SDP ($P$). The dual is \n",
    "\\begin{equation}\\tag{($D$)}\n",
    "\\begin{aligned}\n",
    "\\min_{\\substack{Y\\in S^{n}\\\\ t\\in \\R}}&~ t\\\\\n",
    "\\text{s.t.}&~ Y_{ij} = 0\\text{ if } \\set{i,j}\\in\\overline E\\\\\n",
    "&~ Y_{ii} = 0 ~\\forall 1 \\le i\\le n\\\\\n",
    "&~ tI - Y- J\\succeq 0\n",
    "\\end{aligned}\n",
    "\\end{equation} "
   ]
  },
  {
   "cell_type": "code",
   "execution_count": 5,
   "id": "ba30427b",
   "metadata": {},
   "outputs": [
    {
     "name": "stdout",
     "output_type": "stream",
     "text": [
      "5.000001684329688 \n",
      "\n"
     ]
    }
   ],
   "source": [
    "Y = cp.Variable((n,n), symmetric=True)\n",
    "t = cp.Variable()\n",
    "constraints = [t*np.identity(n) >> Y+J]\n",
    "for i in range(n):\n",
    "    constraints.append(Y[i][i] == 0)\n",
    "    for j in range(i+1,n):\n",
    "        if(G[i][j]==0):\n",
    "            constraints.append(Y[i][j] == 0)\n",
    "constraints\n",
    "prob = cp.Problem(cp.Minimize(t), constraints)\n",
    "print(prob.solve(),\"\\n\")"
   ]
  },
  {
   "cell_type": "markdown",
   "id": "ce0324b4",
   "metadata": {},
   "source": [
    "Now we (try to) find stable sets of size $5$ and $6$ by brute force. If no stable set of size $6$ is found, we can conclude that there is no stable set of that size, because the method is searching through all possible subsets of vertices of the given size."
   ]
  },
  {
   "cell_type": "code",
   "execution_count": 6,
   "id": "528e6e4e",
   "metadata": {},
   "outputs": [
    {
     "name": "stdout",
     "output_type": "stream",
     "text": [
      "[2, 7, 9, 11, 46]\n",
      "1\n"
     ]
    }
   ],
   "source": [
    "#stable sets of length 5\n",
    "s5 = 0\n",
    "for i in range(n):\n",
    "    for j in range(i+1,n):\n",
    "        if(G[i,j]==1):\n",
    "            continue\n",
    "        for k in range(j+1,n):\n",
    "            if(G[j,k] == 1 or G[i,k] == 1):\n",
    "                continue\n",
    "            for l in range(k+1,n):\n",
    "                if(not isStable([i,j,k,l])):\n",
    "                    continue\n",
    "                for t in range(l+1,n):\n",
    "                    if(isStable([i,j,k,l,t])):\n",
    "                        print([i,j,k,l,t])\n",
    "                        s5 = s5 + 1\n",
    "print(s5)"
   ]
  },
  {
   "cell_type": "code",
   "execution_count": 7,
   "id": "ad5935f3",
   "metadata": {},
   "outputs": [
    {
     "name": "stdout",
     "output_type": "stream",
     "text": [
      "0\n"
     ]
    }
   ],
   "source": [
    "#stable sets of length 6\n",
    "s6 = 0\n",
    "for i in range(n):\n",
    "    for j in range(i+1,n):\n",
    "        if(G[i,j]==1):\n",
    "            continue\n",
    "        for k in range(j+1,n):\n",
    "            if(G[j,k] == 1 or G[i,k] == 1):\n",
    "                continue\n",
    "            for l in range(k+1,n):\n",
    "                if(not isStable([i,j,k,l])):\n",
    "                    continue\n",
    "                for t in range(l+1,n):\n",
    "                    for p in range(t+1,n):\n",
    "                        s6 = s6 + isStable([i,j,k,l,t,p])\n",
    "print(s6)"
   ]
  },
  {
   "cell_type": "markdown",
   "id": "7fe52d9e",
   "metadata": {},
   "source": [
    "\\\\\n",
    "\n",
    "\\section*{LP with clique inequalities}\n",
    "\n",
    "First we check that this graph has a clique of size $4$."
   ]
  },
  {
   "cell_type": "code",
   "execution_count": 8,
   "id": "75c6387a",
   "metadata": {},
   "outputs": [
    {
     "name": "stdout",
     "output_type": "stream",
     "text": [
      "True\n"
     ]
    }
   ],
   "source": [
    "c4 = 0\n",
    "for i in range(n):\n",
    "    for j in range(i+1,n):\n",
    "        if(G[i,j]==0):\n",
    "            continue\n",
    "        for k in range(j+1,n):\n",
    "            if(G[j,k] == 0 or G[i,k] == 0):\n",
    "                continue\n",
    "            for l in range(k+1,n):\n",
    "                c4 = max(c4,isClique([i,j,k,l]))\n",
    "print(c4)"
   ]
  },
  {
   "cell_type": "markdown",
   "id": "2bac9c86",
   "metadata": {},
   "source": [
    "\n",
    "The following is the LP for $\\eta_{LP}^2$:\n",
    "\\begin{align*}\n",
    "\\max_{x\\in\\R^n} &\\sum_{i=1}^{n} x_{i} \\\\\n",
    "\\text { s.t. } &0 \\leq x_{i} \\leq 1~\\forall 1\\le i\\le n \\\\\n",
    "& x_i + x_j \\le 1 \\text{ if } \\set{i,j}\\in E\n",
    "\\end{align*}"
   ]
  },
  {
   "cell_type": "code",
   "execution_count": 9,
   "id": "a4d19316",
   "metadata": {},
   "outputs": [
    {
     "name": "stdout",
     "output_type": "stream",
     "text": [
      "24.999999999752085 \n",
      "\n"
     ]
    }
   ],
   "source": [
    "#C2\n",
    "x = cp.Variable(n)\n",
    "constraints = [0 <= x, x <= 1]\n",
    "for i in range(n):\n",
    "    for j in range(i,n):\n",
    "        if(G[i][j]==1):\n",
    "            constraints.append(x[i] + x[j] <= 1)\n",
    "constraints\n",
    "prob = cp.Problem(cp.Maximize(cp.sum(x)), constraints)\n",
    "print(prob.solve(solver = cp.ECOS),\"\\n\")"
   ]
  },
  {
   "cell_type": "markdown",
   "id": "9931cf54",
   "metadata": {},
   "source": [
    "The following is the LP for $\\eta_{LP}^3$:\n",
    "\\begin{align*}\n",
    "\\max_{x\\in\\R^n} &\\sum_{i=1}^{n} x_{i} \\\\\n",
    "\\text { s.t. } &0 \\leq x_{i} \\leq 1~\\forall 1\\le i\\le n \\\\\n",
    "& x_i + x_j \\le 1 \\text{ if } \\set{i,j}\\in E &{\\color{red}\\text{removed}}\\\\\n",
    "& x_i + x_j + x_k \\le 1 \\text{ if } \\set{i,j},\\set{j,k}, \\set{k,i}\\in E\n",
    "\\end{align*}"
   ]
  },
  {
   "cell_type": "code",
   "execution_count": 10,
   "id": "026da2e7",
   "metadata": {},
   "outputs": [
    {
     "name": "stdout",
     "output_type": "stream",
     "text": [
      "16.666666666662305 \n",
      "\n"
     ]
    }
   ],
   "source": [
    "#C3\n",
    "x = cp.Variable(n)\n",
    "constraints = [0 <= x, x <= 1]\n",
    "for i in range(n):\n",
    "    for j in range(i+1,n):\n",
    "        if(G[i][j] == 0):\n",
    "            continue\n",
    "        for k in range(j+1,n):\n",
    "            if(isClique([i,j,k])):\n",
    "                constraints.append(x[i]+x[j]+x[k] <= 1)\n",
    "constraints\n",
    "prob = cp.Problem(cp.Maximize(cp.sum(x)), constraints)\n",
    "print(prob.solve(solver = cp.ECOS),\"\\n\")"
   ]
  },
  {
   "cell_type": "markdown",
   "id": "401456e3",
   "metadata": {},
   "source": [
    "The following is the LP for $\\eta_{LP}^4$:\n",
    "\\begin{align*}\n",
    "\\max_{x\\in\\R^n} &\\sum_{i=1}^{n} x_{i} \\\\\n",
    "\\text { s.t. } &0 \\leq x_{i} \\leq 1~\\forall 1\\le i\\le n \\\\\n",
    "& x_i + x_j \\le 1 \\text{ if } \\set{i,j}\\in E &{\\color{red}\\text{removed}}\\\\\n",
    "& x_i + x_j + x_k \\le 1 \\text{ if } \\set{i,j},\\set{j,k}, \\set{k,i}\\in E &{\\color{red}\\text{removed}}\\\\\n",
    "&x_i + x_j + x_k + x_l\\le 1 \\text{ if } \\set{i,j},\\set{j,k}, \\set{k,l}, \\set{l,i}, \\set{i,k}, \\set{j,l}\\in E\n",
    "\\end{align*}"
   ]
  },
  {
   "cell_type": "code",
   "execution_count": 11,
   "id": "850e32dd",
   "metadata": {},
   "outputs": [
    {
     "name": "stdout",
     "output_type": "stream",
     "text": [
      "12.499999999999996 \n",
      "\n"
     ]
    }
   ],
   "source": [
    "#C4\n",
    "x = cp.Variable(n)\n",
    "constraints = [0 <= x, x <= 1]\n",
    "for i in range(n):\n",
    "    for j in range(i+1,n):\n",
    "        if(G[i][j] == 0):\n",
    "            continue\n",
    "        for k in range(j+1,n):\n",
    "            if(G[i][k] == 0 or G[k][j] == 0):\n",
    "                continue\n",
    "            for l in range(k+1,n):\n",
    "                if(isClique([i,j,k,l])):\n",
    "                    constraints.append(x[i]+x[j]+x[k]+x[l] <= 1)\n",
    "constraints\n",
    "prob = cp.Problem(cp.Maximize(cp.sum(x)), constraints)\n",
    "print(prob.solve(solver = cp.ECOS),\"\\n\")"
   ]
  },
  {
   "cell_type": "code",
   "execution_count": 12,
   "id": "8ff59091",
   "metadata": {},
   "outputs": [
    {
     "name": "stdout",
     "output_type": "stream",
     "text": [
      "[2, 7, 9, 11, 46]\n",
      "1\n"
     ]
    }
   ],
   "source": [
    "#stable set of size 5\n",
    "s5 = 0\n",
    "for i in range(n):\n",
    "    for j in range(i+1,n):\n",
    "        if(G[i,j]==1):\n",
    "            continue\n",
    "        for k in range(j+1,n):\n",
    "            if(G[j,k] == 1 or G[i,k] == 1):\n",
    "                continue\n",
    "            for l in range(k+1,n):\n",
    "                if(not isStable([i,j,k,l])):\n",
    "                    continue\n",
    "                for t in range(l+1,n):\n",
    "                    if(isStable([i,j,k,l,t])):\n",
    "                        print([i,j,k,l,t])\n",
    "                        s5 = s5 + 1\n",
    "print(s5)"
   ]
  },
  {
   "cell_type": "code",
   "execution_count": 13,
   "id": "41b4047e",
   "metadata": {},
   "outputs": [
    {
     "name": "stdout",
     "output_type": "stream",
     "text": [
      "0\n"
     ]
    }
   ],
   "source": [
    "#stable set of size 6\n",
    "s6 = 0\n",
    "for i in range(n):\n",
    "    for j in range(i+1,n):\n",
    "        if(G[i,j]==1):\n",
    "            continue\n",
    "        for k in range(j+1,n):\n",
    "            if(G[j,k] == 1 or G[i,k] == 1):\n",
    "                continue\n",
    "            for l in range(k+1,n):\n",
    "                if(not isStable([i,j,k,l])):\n",
    "                    continue\n",
    "                for t in range(l+1,n):\n",
    "                    for p in range(t+1,n):\n",
    "                        s6 = s6 + isStable([i,j,k,l,t,p])\n",
    "print(s6)"
   ]
  },
  {
   "cell_type": "code",
   "execution_count": 14,
   "id": "fda758e1",
   "metadata": {},
   "outputs": [
    {
     "name": "stdout",
     "output_type": "stream",
     "text": [
      "[[0 0 0 0 0]\n",
      " [0 0 0 0 0]\n",
      " [0 0 0 0 0]\n",
      " [0 0 0 0 0]\n",
      " [0 0 0 0 0]]\n"
     ]
    }
   ],
   "source": [
    "#verify if this set of vertices is stable \n",
    "stb = [2, 7, 9, 11, 46]\n",
    "subG = np.array([[G[i,j] for i in stb] for j in stb])\n",
    "print(subG)"
   ]
  }
 ],
 "metadata": {
  "kernelspec": {
   "display_name": "Python 3 (ipykernel)",
   "language": "python",
   "name": "python3"
  },
  "language_info": {
   "codemirror_mode": {
    "name": "ipython",
    "version": 3
   },
   "file_extension": ".py",
   "mimetype": "text/x-python",
   "name": "python",
   "nbconvert_exporter": "python",
   "pygments_lexer": "ipython3",
   "version": "3.11.6"
  }
 },
 "nbformat": 4,
 "nbformat_minor": 5
}

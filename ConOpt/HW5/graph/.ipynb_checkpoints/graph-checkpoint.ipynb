{
 "cells": [
  {
   "cell_type": "code",
   "execution_count": 7,
   "id": "1c74e3c0",
   "metadata": {},
   "outputs": [],
   "source": [
    "import numpy as np\n",
    "import cvxpy as cp\n",
    "import scipy\n",
    "mat = scipy.io.loadmat('Graph.mat')\n",
    "G = mat['G']"
   ]
  },
  {
   "cell_type": "code",
   "execution_count": null,
   "id": "e23d3a0a",
   "metadata": {},
   "outputs": [],
   "source": [
    "X = cp.Variable((n,n), symmetric=True)\n",
    "constraints = [X >> 0, cp.trace(X) == 1]\n",
    "for i in range(n):\n",
    "    constraints.append(cp.trace(E(i,(i+1)%n) @ X) == 0)\n",
    "constraints\n",
    "prob = cp.Problem(cp.Maximize(cp.trace(J @ X)), constraints)\n",
    "print(prob.solve(),\"\\n\")"
   ]
  }
 ],
 "metadata": {
  "kernelspec": {
   "display_name": "Python 3 (ipykernel)",
   "language": "python",
   "name": "python3"
  },
  "language_info": {
   "codemirror_mode": {
    "name": "ipython",
    "version": 3
   },
   "file_extension": ".py",
   "mimetype": "text/x-python",
   "name": "python",
   "nbconvert_exporter": "python",
   "pygments_lexer": "ipython3",
   "version": "3.11.6"
  }
 },
 "nbformat": 4,
 "nbformat_minor": 5
}

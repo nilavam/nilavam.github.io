{
 "cells": [
  {
   "cell_type": "code",
   "execution_count": 1,
   "id": "41951aa4",
   "metadata": {},
   "outputs": [],
   "source": [
    "import scipy\n",
    "import sympy as sp\n",
    "import numpy as np\n",
    "from SumOfSquares import SOSProblem, poly_opt_prob\n",
    "import cvxpy as cp\n",
    "from matplotlib import pyplot as plt"
   ]
  },
  {
   "cell_type": "code",
   "execution_count": 2,
   "id": "fa9028f9",
   "metadata": {},
   "outputs": [],
   "source": [
    "def poly(coeff, x):\n",
    "    try:\n",
    "        l = len(coeff)\n",
    "    except:\n",
    "        l = coeff.size\n",
    "    pol = 0\n",
    "    for j in range(l):\n",
    "        pol = pol + coeff[j] * x**j\n",
    "    return pol"
   ]
  },
  {
   "cell_type": "code",
   "execution_count": 3,
   "id": "afe04611",
   "metadata": {},
   "outputs": [],
   "source": [
    "mat = scipy.io.loadmat('regression_data.mat')\n",
    "xv = mat['xvec'][0]\n",
    "fv = mat['fvec'][0]"
   ]
  },
  {
   "cell_type": "code",
   "execution_count": 5,
   "id": "8bf93ec9",
   "metadata": {},
   "outputs": [],
   "source": [
    "c = cp.Variable(8)\n",
    "p = [0 for i in range(20)]\n",
    "for i in range(20):\n",
    "    p[i] = (fv[i] - poly(c,xv[i]))**2"
   ]
  },
  {
   "cell_type": "code",
   "execution_count": 6,
   "id": "4a173b33",
   "metadata": {},
   "outputs": [
    {
     "data": {
      "text/plain": [
       "125.03257002750252"
      ]
     },
     "execution_count": 6,
     "metadata": {},
     "output_type": "execute_result"
    }
   ],
   "source": [
    "constraints = []\n",
    "prob = cp.Problem(cp.Minimize(cp.sum(p)), constraints)\n",
    "prob.solve()"
   ]
  },
  {
   "cell_type": "code",
   "execution_count": 7,
   "id": "198a8bb9",
   "metadata": {},
   "outputs": [
    {
     "data": {
      "image/png": "[encoded data removed]",
      "text/plain": [
       "<Figure size 640x480 with 1 Axes>"
      ]
     },
     "metadata": {},
     "output_type": "display_data"
    }
   ],
   "source": [
    "x = np.linspace(0, 6.6, 100)\n",
    "plt.plot(x, poly(c.value, x))\n",
    "plt.plot(xv, fv, 'ro', markersize = 3)\n",
    "plt.show()"
   ]
  },
  {
   "cell_type": "code",
   "execution_count": 3,
   "id": "06a28361",
   "metadata": {
    "scrolled": false
   },
   "outputs": [
    {
     "ename": "NameError",
     "evalue": "name 'q' is not defined",
     "output_type": "error",
     "traceback": [
      "\u001b[0;31m---------------------------------------------------------------------------\u001b[0m",
      "\u001b[0;31mNameError\u001b[0m                                 Traceback (most recent call last)",
      "Cell \u001b[0;32mIn[3], line 4\u001b[0m\n\u001b[1;32m      2\u001b[0m con \u001b[38;5;241m=\u001b[39m sp\u001b[38;5;241m.\u001b[39msymbols(\u001b[38;5;124m'\u001b[39m\u001b[38;5;124mc0:8\u001b[39m\u001b[38;5;124m'\u001b[39m)\n\u001b[1;32m      3\u001b[0m \u001b[38;5;28;01mfor\u001b[39;00m i \u001b[38;5;129;01min\u001b[39;00m \u001b[38;5;28mrange\u001b[39m(\u001b[38;5;241m2\u001b[39m,\u001b[38;5;241m8\u001b[39m):\n\u001b[0;32m----> 4\u001b[0m     q \u001b[38;5;241m=\u001b[39m q \u001b[38;5;241m+\u001b[39m i \u001b[38;5;241m*\u001b[39m con[i] \u001b[38;5;241m*\u001b[39m x\u001b[38;5;241m*\u001b[39m\u001b[38;5;241m*\u001b[39m(i\u001b[38;5;241m-\u001b[39m\u001b[38;5;241m1\u001b[39m)\n\u001b[1;32m      5\u001b[0m sosprob \u001b[38;5;241m=\u001b[39m SOSProblem()\n\u001b[1;32m      6\u001b[0m co \u001b[38;5;241m=\u001b[39m [\u001b[38;5;241m0\u001b[39m \u001b[38;5;28;01mfor\u001b[39;00m i \u001b[38;5;129;01min\u001b[39;00m \u001b[38;5;28mrange\u001b[39m(\u001b[38;5;241m8\u001b[39m)]\n",
      "\u001b[0;31mNameError\u001b[0m: name 'q' is not defined"
     ]
    }
   ],
   "source": [
    "x = sp.symbols('x')\n",
    "con = sp.symbols('c0:8')\n",
    "for i in range(2,8):\n",
    "    q = q + i * con[i] * x**(i-1)\n",
    "sosprob = SOSProblem()\n",
    "co = [0 for i in range(8)]\n",
    "for i in range(8):\n",
    "    co[i] = sosprob.sym_to_var(con[i])\n",
    "sosprob.add_sos_constraint(q, [x])\n",
    "expr = 0\n",
    "for i in range(20):    \n",
    "    expr = expr + (fv[i] - poly(con,xv[i]))**2\n",
    "sosprob.set_objective('min', expr)\n",
    "sosprob.solve()"
   ]
  },
  {
   "cell_type": "code",
   "execution_count": 4,
   "id": "ca21ef32",
   "metadata": {
    "scrolled": false
   },
   "outputs": [],
   "source": [
    "x = sp.symbols('x')\n",
    "con = sp.symbols('c0:8')\n",
    "sosprob = SOSProblem()\n",
    "y = sosprob.sym_to_var(x)\n",
    "c = [sosprob.sym_to_var(con[i]) for i in range(8)]\n",
    "p = con @ np.array([x**i for i in range(8)]).T\n",
    "sosprob.add_sos_constraint(sp.diff(p,x), [x])\n",
    "expr = sum([(fv[i]-poly(c,xv[i]))**2 for i in range(20)])\n",
    "sosprob.set_objective('min', expr)"
   ]
  },
  {
   "cell_type": "code",
   "execution_count": 5,
   "id": "e2218b5b",
   "metadata": {
    "scrolled": false
   },
   "outputs": [
    {
     "ename": "ValueError",
     "evalue": "math domain error",
     "output_type": "error",
     "traceback": [
      "\u001b[0;31m---------------------------------------------------------------------------\u001b[0m",
      "\u001b[0;31mValueError\u001b[0m                                Traceback (most recent call last)",
      "File \u001b[0;32m~/anaconda3/lib/python3.11/site-packages/picos/solvers/solver_cvxopt.py:510\u001b[0m, in \u001b[0;36mCVXOPTSolver._solve\u001b[0;34m(self)\u001b[0m\n\u001b[1;32m    509\u001b[0m     \u001b[38;5;28;01mif\u001b[39;00m \u001b[38;5;129;01mnot\u001b[39;00m userKKT \u001b[38;5;129;01mand\u001b[39;00m result[\u001b[38;5;124m\"\u001b[39m\u001b[38;5;124mstatus\u001b[39m\u001b[38;5;124m\"\u001b[39m] \u001b[38;5;241m==\u001b[39m \u001b[38;5;124m\"\u001b[39m\u001b[38;5;124munknown\u001b[39m\u001b[38;5;124m\"\u001b[39m:\n\u001b[0;32m--> 510\u001b[0m         \u001b[38;5;28;01mraise\u001b[39;00m \u001b[38;5;167;01mValueError\u001b[39;00m(\u001b[38;5;124m\"\u001b[39m\u001b[38;5;124mThe first solution attempt with \u001b[39m\u001b[38;5;124m\"\u001b[39m\n\u001b[1;32m    511\u001b[0m             \u001b[38;5;124m\"\u001b[39m\u001b[38;5;124mCHOL as a KKT solver returnd a solution with \u001b[39m\u001b[38;5;124m\"\u001b[39m\n\u001b[1;32m    512\u001b[0m             \u001b[38;5;124m\"\u001b[39m\u001b[38;5;124munknown status. This exception triggers \u001b[39m\u001b[38;5;124m\"\u001b[39m\n\u001b[1;32m    513\u001b[0m             \u001b[38;5;124m\"\u001b[39m\u001b[38;5;124manother solution attempt using LDL.\u001b[39m\u001b[38;5;124m\"\u001b[39m)\n\u001b[1;32m    514\u001b[0m \u001b[38;5;28;01mexcept\u001b[39;00m \u001b[38;5;167;01mValueError\u001b[39;00m:\n\u001b[1;32m    515\u001b[0m     \u001b[38;5;66;03m# NOTE: Apart from the one created by PICOS above, there\u001b[39;00m\n\u001b[1;32m    516\u001b[0m     \u001b[38;5;66;03m#       are at least two more ValueError produced by\u001b[39;00m\n\u001b[1;32m    517\u001b[0m     \u001b[38;5;66;03m#       CVXOPT when an unreliable KKT solver is used.\u001b[39;00m\n",
      "\u001b[0;31mValueError\u001b[0m: The first solution attempt with CHOL as a KKT solver returnd a solution with unknown status. This exception triggers another solution attempt using LDL.",
      "\nDuring handling of the above exception, another exception occurred:\n",
      "\u001b[0;31mValueError\u001b[0m                                Traceback (most recent call last)",
      "Cell \u001b[0;32mIn[5], line 1\u001b[0m\n\u001b[0;32m----> 1\u001b[0m sosprob\u001b[38;5;241m.\u001b[39msolve()\n",
      "File \u001b[0;32m~/anaconda3/lib/python3.11/site-packages/picos/modeling/problem.py:1804\u001b[0m, in \u001b[0;36mProblem.solve\u001b[0;34m(self, **extra_options)\u001b[0m\n\u001b[1;32m   1800\u001b[0m         \u001b[38;5;28mprint\u001b[39m(\u001b[38;5;124m\"\u001b[39m\u001b[38;5;124mReusing strategy:\u001b[39m\u001b[38;5;130;01m\\n\u001b[39;00m\u001b[38;5;124m  \u001b[39m\u001b[38;5;132;01m{}\u001b[39;00m\u001b[38;5;124m\"\u001b[39m\u001b[38;5;241m.\u001b[39mformat(\n\u001b[1;32m   1801\u001b[0m             \u001b[38;5;124m\"\u001b[39m\u001b[38;5;130;01m\\n\u001b[39;00m\u001b[38;5;124m  \u001b[39m\u001b[38;5;124m\"\u001b[39m\u001b[38;5;241m.\u001b[39mjoin(\u001b[38;5;28mstr\u001b[39m(\u001b[38;5;28mself\u001b[39m\u001b[38;5;241m.\u001b[39m_strategy)\u001b[38;5;241m.\u001b[39msplitlines())))\n\u001b[1;32m   1803\u001b[0m \u001b[38;5;66;03m# Execute the strategy to obtain one or more solutions.\u001b[39;00m\n\u001b[0;32m-> 1804\u001b[0m solutions \u001b[38;5;241m=\u001b[39m \u001b[38;5;28mself\u001b[39m\u001b[38;5;241m.\u001b[39m_strategy\u001b[38;5;241m.\u001b[39mexecute(\u001b[38;5;241m*\u001b[39m\u001b[38;5;241m*\u001b[39mextra_options)\n\u001b[1;32m   1806\u001b[0m \u001b[38;5;66;03m# Report how many solutions were obtained, select the first.\u001b[39;00m\n\u001b[1;32m   1807\u001b[0m \u001b[38;5;28;01mif\u001b[39;00m \u001b[38;5;28misinstance\u001b[39m(solutions, \u001b[38;5;28mlist\u001b[39m):\n",
      "File \u001b[0;32m~/anaconda3/lib/python3.11/site-packages/picos/modeling/strategy.py:148\u001b[0m, in \u001b[0;36mStrategy.execute\u001b[0;34m(self, **extra_options)\u001b[0m\n\u001b[1;32m    137\u001b[0m \u001b[38;5;250m\u001b[39m\u001b[38;5;124;03m\"\"\"Execute the solution strategy.\u001b[39;00m\n\u001b[1;32m    138\u001b[0m \n\u001b[1;32m    139\u001b[0m \u001b[38;5;124;03m:param extra_options:\u001b[39;00m\n\u001b[0;32m   (...)\u001b[0m\n\u001b[1;32m    144\u001b[0m \u001b[38;5;124;03m     :class:`~picos.modeling.Solution` to the problem.\u001b[39;00m\n\u001b[1;32m    145\u001b[0m \u001b[38;5;124;03m\"\"\"\u001b[39;00m\n\u001b[1;32m    146\u001b[0m \u001b[38;5;66;03m# Defer solving to the first reformulation, which is responsible for\u001b[39;00m\n\u001b[1;32m    147\u001b[0m \u001b[38;5;66;03m# applying the extra options (i.e. ExtraOptions).\u001b[39;00m\n\u001b[0;32m--> 148\u001b[0m solution \u001b[38;5;241m=\u001b[39m \u001b[38;5;28mself\u001b[39m\u001b[38;5;241m.\u001b[39mnodes[\u001b[38;5;241m1\u001b[39m]\u001b[38;5;241m.\u001b[39mexecute(\u001b[38;5;241m*\u001b[39m\u001b[38;5;241m*\u001b[39mextra_options)\n\u001b[1;32m    150\u001b[0m \u001b[38;5;66;03m# Attach the solution to the root problem. Note that reformulations are\u001b[39;00m\n\u001b[1;32m    151\u001b[0m \u001b[38;5;66;03m# allowed to already do this within their 'backward' method, but for\u001b[39;00m\n\u001b[1;32m    152\u001b[0m \u001b[38;5;66;03m# performance reasons it is best to do this just once, here.\u001b[39;00m\n\u001b[1;32m    153\u001b[0m \u001b[38;5;28;01mif\u001b[39;00m \u001b[38;5;28misinstance\u001b[39m(solution, \u001b[38;5;28mlist\u001b[39m):\n",
      "File \u001b[0;32m~/anaconda3/lib/python3.11/site-packages/picos/reforms/reform_options.py:106\u001b[0m, in \u001b[0;36mExtraOptions.execute\u001b[0;34m(self, **extra_options)\u001b[0m\n\u001b[1;32m    102\u001b[0m \u001b[38;5;28;01massert\u001b[39;00m \u001b[38;5;28mself\u001b[39m\u001b[38;5;241m.\u001b[39msuccessor, \\\n\u001b[1;32m    103\u001b[0m     \u001b[38;5;124m\"\u001b[39m\u001b[38;5;124mThe reformulation being executed has no successor.\u001b[39m\u001b[38;5;124m\"\u001b[39m\n\u001b[1;32m    105\u001b[0m \u001b[38;5;66;03m# Advance one step and return any solution as-is.\u001b[39;00m\n\u001b[0;32m--> 106\u001b[0m \u001b[38;5;28;01mreturn\u001b[39;00m \u001b[38;5;28mself\u001b[39m\u001b[38;5;241m.\u001b[39msuccessor\u001b[38;5;241m.\u001b[39mexecute()\n",
      "File \u001b[0;32m~/anaconda3/lib/python3.11/site-packages/picos/reforms/reformulation.py:229\u001b[0m, in \u001b[0;36mReformulation.execute\u001b[0;34m(self)\u001b[0m\n\u001b[1;32m    226\u001b[0m \u001b[38;5;28mself\u001b[39m\u001b[38;5;241m.\u001b[39m_verify_prediction()\n\u001b[1;32m    228\u001b[0m \u001b[38;5;66;03m# Advance one step.\u001b[39;00m\n\u001b[0;32m--> 229\u001b[0m outputSolution \u001b[38;5;241m=\u001b[39m \u001b[38;5;28mself\u001b[39m\u001b[38;5;241m.\u001b[39msuccessor\u001b[38;5;241m.\u001b[39mexecute()\n\u001b[1;32m    231\u001b[0m \u001b[38;5;66;03m# Transform the solution of the output problem for the input problem.\u001b[39;00m\n\u001b[1;32m    232\u001b[0m \u001b[38;5;28;01mif\u001b[39;00m \u001b[38;5;28misinstance\u001b[39m(outputSolution, Solution):\n",
      "File \u001b[0;32m~/anaconda3/lib/python3.11/site-packages/picos/reforms/reformulation.py:229\u001b[0m, in \u001b[0;36mReformulation.execute\u001b[0;34m(self)\u001b[0m\n\u001b[1;32m    226\u001b[0m \u001b[38;5;28mself\u001b[39m\u001b[38;5;241m.\u001b[39m_verify_prediction()\n\u001b[1;32m    228\u001b[0m \u001b[38;5;66;03m# Advance one step.\u001b[39;00m\n\u001b[0;32m--> 229\u001b[0m outputSolution \u001b[38;5;241m=\u001b[39m \u001b[38;5;28mself\u001b[39m\u001b[38;5;241m.\u001b[39msuccessor\u001b[38;5;241m.\u001b[39mexecute()\n\u001b[1;32m    231\u001b[0m \u001b[38;5;66;03m# Transform the solution of the output problem for the input problem.\u001b[39;00m\n\u001b[1;32m    232\u001b[0m \u001b[38;5;28;01mif\u001b[39;00m \u001b[38;5;28misinstance\u001b[39m(outputSolution, Solution):\n",
      "File \u001b[0;32m~/anaconda3/lib/python3.11/site-packages/picos/solvers/solver.py:712\u001b[0m, in \u001b[0;36mSolver.execute\u001b[0;34m(self)\u001b[0m\n\u001b[1;32m    708\u001b[0m \u001b[38;5;28mself\u001b[39m\u001b[38;5;241m.\u001b[39m_reset_stopwatch()\n\u001b[1;32m    710\u001b[0m \u001b[38;5;28mself\u001b[39m\u001b[38;5;241m.\u001b[39m_verbose(\u001b[38;5;124m\"\u001b[39m\u001b[38;5;124mStarting solution search.\u001b[39m\u001b[38;5;124m\"\u001b[39m)\n\u001b[0;32m--> 712\u001b[0m solution \u001b[38;5;241m=\u001b[39m \u001b[38;5;28mself\u001b[39m\u001b[38;5;241m.\u001b[39m_solve()\n\u001b[1;32m    714\u001b[0m \u001b[38;5;28;01mif\u001b[39;00m \u001b[38;5;28misinstance\u001b[39m(solution, \u001b[38;5;28mlist\u001b[39m):\n\u001b[1;32m    715\u001b[0m     \u001b[38;5;28;01massert\u001b[39;00m \u001b[38;5;28mall\u001b[39m(\u001b[38;5;28misinstance\u001b[39m(s, Solution) \u001b[38;5;28;01mfor\u001b[39;00m s \u001b[38;5;129;01min\u001b[39;00m solution)\n",
      "File \u001b[0;32m~/anaconda3/lib/python3.11/site-packages/picos/solvers/solver_cvxopt.py:525\u001b[0m, in \u001b[0;36mCVXOPTSolver._solve\u001b[0;34m(self)\u001b[0m\n\u001b[1;32m    520\u001b[0m                 \u001b[38;5;28;01melse\u001b[39;00m:\n\u001b[1;32m    521\u001b[0m                     \u001b[38;5;66;03m# Re-solve using the LDL solver.\u001b[39;00m\n\u001b[1;32m    522\u001b[0m                     \u001b[38;5;66;03m# TODO: Consider pre-solving on PICOS end to prevent\u001b[39;00m\n\u001b[1;32m    523\u001b[0m                     \u001b[38;5;66;03m#       the \"Rank(A) < p or Rank([G; A]) < n\" error.\u001b[39;00m\n\u001b[1;32m    524\u001b[0m                     kwargs[\u001b[38;5;124m\"\u001b[39m\u001b[38;5;124mkktsolver\u001b[39m\u001b[38;5;124m\"\u001b[39m] \u001b[38;5;241m=\u001b[39m \u001b[38;5;124m\"\u001b[39m\u001b[38;5;124mldl\u001b[39m\u001b[38;5;124m\"\u001b[39m\n\u001b[0;32m--> 525\u001b[0m                     result \u001b[38;5;241m=\u001b[39m cvxopt\u001b[38;5;241m.\u001b[39msolvers\u001b[38;5;241m.\u001b[39mconelp(\n\u001b[1;32m    526\u001b[0m                         p[\u001b[38;5;124m\"\u001b[39m\u001b[38;5;124mc\u001b[39m\u001b[38;5;124m\"\u001b[39m], G, h, dims, A, b, \u001b[38;5;241m*\u001b[39m\u001b[38;5;241m*\u001b[39mkwargs)\n\u001b[1;32m    528\u001b[0m \u001b[38;5;66;03m# Retrieve primals.\u001b[39;00m\n\u001b[1;32m    529\u001b[0m primals \u001b[38;5;241m=\u001b[39m {}\n",
      "File \u001b[0;32m~/anaconda3/lib/python3.11/site-packages/cvxopt/coneprog.py:1395\u001b[0m, in \u001b[0;36mconelp\u001b[0;34m(c, G, h, dims, A, b, primalstart, dualstart, kktsolver, xnewcopy, xdot, xaxpy, xscal, ynewcopy, ydot, yaxpy, yscal, **kwargs)\u001b[0m\n\u001b[1;32m   1390\u001b[0m     ind3 \u001b[38;5;241m+\u001b[39m\u001b[38;5;241m=\u001b[39m m\n\u001b[1;32m   1393\u001b[0m \u001b[38;5;66;03m# Update lambda and scaling.\u001b[39;00m\n\u001b[0;32m-> 1395\u001b[0m misc\u001b[38;5;241m.\u001b[39mupdate_scaling(W, lmbda, ds, dz)\n\u001b[1;32m   1397\u001b[0m \u001b[38;5;66;03m# For kappa, tau block:\u001b[39;00m\n\u001b[1;32m   1398\u001b[0m \u001b[38;5;66;03m#\u001b[39;00m\n\u001b[1;32m   1399\u001b[0m \u001b[38;5;66;03m#     dg := sqrt( (kappa + step*dkappa) / (tau + step*dtau) )\u001b[39;00m\n\u001b[0;32m   (...)\u001b[0m\n\u001b[1;32m   1402\u001b[0m \u001b[38;5;66;03m#     lmbda[-1] := sqrt((tau + step*dtau) * (kappa + step*dkappa))\u001b[39;00m\n\u001b[1;32m   1403\u001b[0m \u001b[38;5;66;03m#                = lmbda[-1] * sqrt(( 1 - step*tt) * (1 - step*tk))\u001b[39;00m\n\u001b[1;32m   1405\u001b[0m dg \u001b[38;5;241m*\u001b[39m\u001b[38;5;241m=\u001b[39m math\u001b[38;5;241m.\u001b[39msqrt(\u001b[38;5;241m1.0\u001b[39m \u001b[38;5;241m-\u001b[39m step\u001b[38;5;241m*\u001b[39mtk) \u001b[38;5;241m/\u001b[39m math\u001b[38;5;241m.\u001b[39msqrt(\u001b[38;5;241m1.0\u001b[39m \u001b[38;5;241m-\u001b[39m step\u001b[38;5;241m*\u001b[39mtt)\n",
      "File \u001b[0;32m~/anaconda3/lib/python3.11/site-packages/cvxopt/misc.py:510\u001b[0m, in \u001b[0;36mupdate_scaling\u001b[0;34m(W, lmbda, s, z)\u001b[0m\n\u001b[1;32m    507\u001b[0m m \u001b[38;5;241m=\u001b[39m \u001b[38;5;28mlen\u001b[39m(v)\n\u001b[1;32m    509\u001b[0m \u001b[38;5;66;03m# ln = sqrt( lambda_k' * J * lambda_k )\u001b[39;00m\n\u001b[0;32m--> 510\u001b[0m ln \u001b[38;5;241m=\u001b[39m jnrm2(lmbda, n \u001b[38;5;241m=\u001b[39m m, offset \u001b[38;5;241m=\u001b[39m ind) \n\u001b[1;32m    512\u001b[0m \u001b[38;5;66;03m# a = sqrt( sk' * J * sk ) = sqrt( st' * J * st ) \u001b[39;00m\n\u001b[1;32m    513\u001b[0m \u001b[38;5;66;03m# s := s / a = st / a\u001b[39;00m\n\u001b[1;32m    514\u001b[0m aa \u001b[38;5;241m=\u001b[39m jnrm2(s, offset \u001b[38;5;241m=\u001b[39m ind, n \u001b[38;5;241m=\u001b[39m m)\n",
      "File \u001b[0;32m~/anaconda3/lib/python3.11/site-packages/cvxopt/misc.py:856\u001b[0m, in \u001b[0;36mjnrm2\u001b[0;34m(x, n, offset)\u001b[0m\n\u001b[1;32m    854\u001b[0m \u001b[38;5;28;01mif\u001b[39;00m n \u001b[38;5;129;01mis\u001b[39;00m \u001b[38;5;28;01mNone\u001b[39;00m:  n \u001b[38;5;241m=\u001b[39m \u001b[38;5;28mlen\u001b[39m(x)\n\u001b[1;32m    855\u001b[0m a \u001b[38;5;241m=\u001b[39m blas\u001b[38;5;241m.\u001b[39mnrm2(x, n \u001b[38;5;241m=\u001b[39m n\u001b[38;5;241m-\u001b[39m\u001b[38;5;241m1\u001b[39m, offset \u001b[38;5;241m=\u001b[39m offset\u001b[38;5;241m+\u001b[39m\u001b[38;5;241m1\u001b[39m)\n\u001b[0;32m--> 856\u001b[0m \u001b[38;5;28;01mreturn\u001b[39;00m math\u001b[38;5;241m.\u001b[39msqrt(x[offset] \u001b[38;5;241m-\u001b[39m a) \u001b[38;5;241m*\u001b[39m math\u001b[38;5;241m.\u001b[39msqrt(x[offset] \u001b[38;5;241m+\u001b[39m a)\n",
      "\u001b[0;31mValueError\u001b[0m: math domain error"
     ]
    }
   ],
   "source": [
    "sosprob.solve()"
   ]
  },
  {
   "cell_type": "code",
   "execution_count": 48,
   "id": "9ceb6d3a",
   "metadata": {},
   "outputs": [
    {
     "data": {
      "text/plain": [
       "<1×1 Real Linear Expression: c0 + c1·6.60428 + c2·43.6166 + c3·288.056 + c4·1902.41 + c5·12564 + c6·82976.4 + c7·548000>"
      ]
     },
     "execution_count": 48,
     "metadata": {},
     "output_type": "execute_result"
    }
   ],
   "source": [
    "x = sp.symbols('x')\n",
    "con = sp.symbols('c0:8')\n",
    "y = sosprob.sym_to_var(x)\n",
    "c = [sosprob.sym_to_var(con[i]) for i in range(8)]\n",
    "poly(c,xv[0])"
   ]
  },
  {
   "cell_type": "code",
   "execution_count": 46,
   "id": "02735002",
   "metadata": {
    "scrolled": false
   },
   "outputs": [
    {
     "data": {
      "text/plain": [
       "<1×1 Real Variable: c2*x**3>"
      ]
     },
     "execution_count": 46,
     "metadata": {},
     "output_type": "execute_result"
    }
   ],
   "source": [
    "x = sp.symbols('x')\n",
    "con = sp.symbols('c0:8')\n",
    "sosprob = SOSProblem()\n",
    "co = [0 for i in range(8)]\n",
    "for i in range(8):\n",
    "    co[i] = sosprob.sym_to_var(con[i])\n",
    "sosprob.sym_to_var(con[2]*(x**3))\n",
    "#(con[2]*(x**3))\n",
    "# for i in range(3,8):\n",
    "#     q = q + i * co[i] * (y**(i-1))\n",
    "# sosprob.add_sos_constraint(q, [x])\n",
    "# expr = 0\n",
    "# for i in range(20):    \n",
    "#     expr = expr + (fv[i] - poly(co,xv[i]))**2\n",
    "# sosprob.set_objective('min', expr)\n",
    "# sosprob.solve()"
   ]
  }
 ],
 "metadata": {
  "kernelspec": {
   "display_name": "Python 3 (ipykernel)",
   "language": "python",
   "name": "python3"
  },
  "language_info": {
   "codemirror_mode": {
    "name": "ipython",
    "version": 3
   },
   "file_extension": ".py",
   "mimetype": "text/x-python",
   "name": "python",
   "nbconvert_exporter": "python",
   "pygments_lexer": "ipython3",
   "version": "3.11.6"
  }
 },
 "nbformat": 4,
 "nbformat_minor": 5
}

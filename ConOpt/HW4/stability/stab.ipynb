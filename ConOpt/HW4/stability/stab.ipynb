{
 "cells": [
  {
   "cell_type": "code",
   "execution_count": 1,
   "id": "1c74e3c0",
   "metadata": {},
   "outputs": [
    {
     "data": {
      "text/plain": [
       "array([[93.85890325, 22.86467265],\n",
       "       [22.86467265, 73.98959241]])"
      ]
     },
     "execution_count": 1,
     "metadata": {},
     "output_type": "execute_result"
    }
   ],
   "source": [
    "import numpy as np\n",
    "import cvxpy as cp\n",
    "\n",
    "n = 2\n",
    "A1 = np.array([[-1/4, -1/4],[-4/4, 0]])\n",
    "A2 = np.array([[3/4, 3/4],[-2/4, 1/4]])\n",
    "id = np.array([[1, 0],[0, 1]])\n",
    "C = np.array([[0,0],[0,0]])\n",
    "\n",
    "X = cp.Variable((n,n), symmetric=True)\n",
    "constraints = [X - A1.T @ X @ A1 - 0.0002*id >> 0, X - A2.T @ X @ A2 - 0.0002*id >> 0 , X - 0.0002*id >> 0]\n",
    "prob = cp.Problem(cp.Minimize(cp.trace(C @ X)),constraints)\n",
    "prob.solve()\n",
    "X.value"
   ]
  },
  {
   "cell_type": "markdown",
   "id": "db697e70",
   "metadata": {},
   "source": [
    "\\\n",
    "\n",
    "Let's try it out with $P = \\begin{bmatrix}93&22\\\\22&73\\end{bmatrix}$."
   ]
  },
  {
   "cell_type": "code",
   "execution_count": 2,
   "id": "e26b197e",
   "metadata": {},
   "outputs": [
    {
     "name": "stdout",
     "output_type": "stream",
     "text": [
      "99.93749999999997 15.503906249999993\n",
      "\n",
      "P - (A1.T) @ P @ A1 = \n",
      " [[ 3.1875 10.6875]\n",
      " [10.6875 67.1875]]\n",
      "\n",
      "P - (A2.T) @ P @ A2 = \n",
      " [[ 38.9375 -17.0625]\n",
      " [-17.0625   7.875 ]]\n"
     ]
    }
   ],
   "source": [
    "from numpy import linalg as LA\n",
    "P = np.array([[93, 22],[22, 73]])\n",
    "B1 = P - (A1.T) @ P @ A1\n",
    "B2 = P - (A2.T) @ P @ A2\n",
    "print(LA.det(B1),LA.det(B2))\n",
    "print(\"\\nP - (A1.T) @ P @ A1 = \\n\", B1)\n",
    "print(\"\\nP - (A2.T) @ P @ A2 = \\n\", B2)"
   ]
  }
 ],
 "metadata": {
  "kernelspec": {
   "display_name": "Python 3 (ipykernel)",
   "language": "python",
   "name": "python3"
  },
  "language_info": {
   "codemirror_mode": {
    "name": "ipython",
    "version": 3
   },
   "file_extension": ".py",
   "mimetype": "text/x-python",
   "name": "python",
   "nbconvert_exporter": "python",
   "pygments_lexer": "ipython3",
   "version": "3.11.6"
  }
 },
 "nbformat": 4,
 "nbformat_minor": 5
}

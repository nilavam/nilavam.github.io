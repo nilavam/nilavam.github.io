{
 "cells": [
  {
   "cell_type": "markdown",
   "id": "0f95cd2b",
   "metadata": {},
   "source": [
    "First we import the necessary packages: `cvxpy` for solving optimization problems, `numpy` for linear algebra and `matplotlib` for using the `stairs()` function to graph the signal."
   ]
  },
  {
   "cell_type": "code",
   "execution_count": 1,
   "id": "5307ddee",
   "metadata": {},
   "outputs": [],
   "source": [
    "import cvxpy as cp\n",
    "import numpy as np\n",
    "import matplotlib.pyplot as plt"
   ]
  },
  {
   "cell_type": "markdown",
   "id": "31bcaaff",
   "metadata": {},
   "source": [
    "\\\n",
    "\n",
    "Next we enter the data required to form the optimization problem, namely $A, b, x_{\\text{des}}, N$."
   ]
  },
  {
   "cell_type": "code",
   "execution_count": 2,
   "id": "b43d307f",
   "metadata": {
    "scrolled": true
   },
   "outputs": [],
   "source": [
    "A = np.matrix([[-1, 0.4, 0.8],[1, 0, 0],[0, 1, 0]])\n",
    "b = [1, 0, 0.3]\n",
    "x_des = [7, 2, -6]\n",
    "N = 30"
   ]
  },
  {
   "cell_type": "markdown",
   "id": "3e0bc718",
   "metadata": {},
   "source": [
    "\n",
    "\n",
    "The original optimization problem is $$\\begin{aligned}\n",
    "\\min_{u} &\\sum_{i=0}^{N-1} f(u(i))\\\\\n",
    "\\text{s.t. } \n",
    "&M u = x_{\\text{des}}\n",
    "\\end{aligned}$$\n",
    "where $$M=\\begin{bmatrix}A^{N-1}b & A^{N-2}b & \\cdots & Ab & b\\end{bmatrix}.$$\n",
    "In the next chunk of code, we compute $M$ by iteratively acting $A$ on $b$ and pushing them as columns of $M$.\\\n",
    "\n",
    "We also initialize a list `c = [1,1,...,1]` which essentially does the job of an $N\\times 1$ column vector comprising all $1$'s."
   ]
  },
  {
   "cell_type": "code",
   "execution_count": 3,
   "id": "bd718d12",
   "metadata": {},
   "outputs": [],
   "source": [
    "M = []\n",
    "temp = np.matrix([[1,0,0],[0,1,0],[0,0,1]])\n",
    "for i in range(N):\n",
    "    M.insert(0, (temp @ b).tolist()[0])\n",
    "    temp = A * temp\n",
    "M = np.matrix(M).T\n",
    "\n",
    "c = [1] * N"
   ]
  },
  {
   "cell_type": "markdown",
   "id": "841f75d8",
   "metadata": {},
   "source": [
    "\\\n",
    "\n",
    "Now we want to focus on the function $f(a) = \\begin{cases}|a| &\\text{if } |a|\\le 1\\\\2|a|-1 &\\text{otherwise}\\end{cases}$. It is easy to see that this expression is exactly $\\max\\left(|a|, 2|a|-1\\right)$. So each summand in the abovementioned objective is precisely $\\max\\left(|u(i)|, 2|u(i)|-1\\right)$. This is the expression `f` (so `f[i] = max(abs(u[i]), abs(2u[i])-1)`) in the following block of code. The objective `obj` is simply the sum of `f[i]`'s and the only constraint `cons` is $M u = x_{\\text{des}}$."
   ]
  },
  {
   "cell_type": "code",
   "execution_count": 4,
   "id": "e9019790",
   "metadata": {},
   "outputs": [
    {
     "name": "stdout",
     "output_type": "stream",
     "text": [
      "===============================================================================\n",
      "                                     CVXPY                                     \n",
      "                                     v1.4.2                                    \n",
      "===============================================================================\n",
      "(CVXPY) Feb 24 04:11:56 PM: Your problem has 30 variables, 1 constraints, and 0 parameters.\n",
      "(CVXPY) Feb 24 04:11:56 PM: It is compliant with the following grammars: DCP, DQCP\n",
      "(CVXPY) Feb 24 04:11:56 PM: (If you need to solve this problem multiple times, but with different data, consider using parameters.)\n",
      "(CVXPY) Feb 24 04:11:56 PM: CVXPY will first compile your problem; then, it will invoke a numerical solver to obtain a solution.\n",
      "(CVXPY) Feb 24 04:11:56 PM: Your problem is compiled with the CPP canonicalization backend.\n",
      "-------------------------------------------------------------------------------\n",
      "                                  Compilation                                  \n",
      "-------------------------------------------------------------------------------\n",
      "(CVXPY) Feb 24 04:11:56 PM: Compiling problem (target solver=ECOS).\n",
      "(CVXPY) Feb 24 04:11:56 PM: Reduction chain: Dcp2Cone -> CvxAttr2Constr -> ConeMatrixStuffing -> ECOS\n",
      "(CVXPY) Feb 24 04:11:56 PM: Applying reduction Dcp2Cone\n",
      "(CVXPY) Feb 24 04:11:56 PM: Applying reduction CvxAttr2Constr\n",
      "(CVXPY) Feb 24 04:11:56 PM: Applying reduction ConeMatrixStuffing\n",
      "(CVXPY) Feb 24 04:11:56 PM: Applying reduction ECOS\n",
      "(CVXPY) Feb 24 04:11:56 PM: Finished problem compilation (took 1.030e-02 seconds).\n",
      "-------------------------------------------------------------------------------\n",
      "                                Numerical solver                               \n",
      "-------------------------------------------------------------------------------\n",
      "(CVXPY) Feb 24 04:11:56 PM: Invoking solver ECOS  to obtain a solution.\n",
      "-------------------------------------------------------------------------------\n",
      "                                    Summary                                    \n",
      "-------------------------------------------------------------------------------\n",
      "(CVXPY) Feb 24 04:11:56 PM: Problem status: optimal\n",
      "(CVXPY) Feb 24 04:11:56 PM: Optimal value: 1.732e+01\n",
      "(CVXPY) Feb 24 04:11:56 PM: Compilation took 1.030e-02 seconds\n",
      "(CVXPY) Feb 24 04:11:56 PM: Solver (including time spent in interface) took 1.340e-03 seconds\n"
     ]
    },
    {
     "data": {
      "text/plain": [
       "17.32356785630167"
      ]
     },
     "execution_count": 4,
     "metadata": {},
     "output_type": "execute_result"
    }
   ],
   "source": [
    "u = cp.Variable(N, 'u')\n",
    "f = cp.maximum(cp.abs(u), cp.abs(u+u)-c)\n",
    "obj = cp.sum(f)\n",
    "cons = [M @ u == x_des]\n",
    "problem = cp.Problem(cp.Minimize(obj), cons)\n",
    "problem.solve(verbose = True, solver = cp.ECOS)"
   ]
  },
  {
   "cell_type": "code",
   "execution_count": 5,
   "id": "008a39c3",
   "metadata": {},
   "outputs": [
    {
     "data": {
      "image/png": "[encoded data removed]",
      "text/plain": [
       "<Figure size 640x480 with 1 Axes>"
      ]
     },
     "metadata": {},
     "output_type": "display_data"
    }
   ],
   "source": [
    "plt.stairs(u.value, range(N+1))\n",
    "plt.xlabel('t')\n",
    "plt.ylabel('u[t]')\n",
    "plt.show()"
   ]
  },
  {
   "cell_type": "markdown",
   "id": "58ea7df7",
   "metadata": {},
   "source": [
    "\\\n",
    "\n",
    "The above solution was based on directly solving the optimization problem, without writing it as an LP. We now solve the following LP which is mentioned in my solution: $$\\begin{aligned}\n",
    "\\min_{q,v,w} &\\sum_{i=0}^{N-1} w(i)\\\\\n",
    "\\text{s.t. } \n",
    "&M q = x_{\\text{des}}\\\\\n",
    "&-v+q\\le 0\\\\\n",
    "&-v-q\\le 0\\\\\n",
    "&-w+v\\le 0\\\\\n",
    "&2v-\\pmb c -w\\le 0.\n",
    "\\end{aligned}$$\n",
    "\n",
    "Note that the variable $u$ has been replaced with $q$ because we used $u$ above."
   ]
  },
  {
   "cell_type": "code",
   "execution_count": 6,
   "id": "b1f3bdf3",
   "metadata": {},
   "outputs": [
    {
     "name": "stdout",
     "output_type": "stream",
     "text": [
      "===============================================================================\n",
      "                                     CVXPY                                     \n",
      "                                     v1.4.2                                    \n",
      "===============================================================================\n",
      "(CVXPY) Feb 24 04:11:56 PM: Your problem has 90 variables, 5 constraints, and 0 parameters.\n",
      "(CVXPY) Feb 24 04:11:56 PM: It is compliant with the following grammars: DCP, DQCP\n",
      "(CVXPY) Feb 24 04:11:56 PM: (If you need to solve this problem multiple times, but with different data, consider using parameters.)\n",
      "(CVXPY) Feb 24 04:11:56 PM: CVXPY will first compile your problem; then, it will invoke a numerical solver to obtain a solution.\n",
      "(CVXPY) Feb 24 04:11:56 PM: Your problem is compiled with the CPP canonicalization backend.\n",
      "-------------------------------------------------------------------------------\n",
      "                                  Compilation                                  \n",
      "-------------------------------------------------------------------------------\n",
      "(CVXPY) Feb 24 04:11:56 PM: Compiling problem (target solver=ECOS).\n",
      "(CVXPY) Feb 24 04:11:56 PM: Reduction chain: Dcp2Cone -> CvxAttr2Constr -> ConeMatrixStuffing -> ECOS\n",
      "(CVXPY) Feb 24 04:11:56 PM: Applying reduction Dcp2Cone\n",
      "(CVXPY) Feb 24 04:11:56 PM: Applying reduction CvxAttr2Constr\n",
      "(CVXPY) Feb 24 04:11:56 PM: Applying reduction ConeMatrixStuffing\n",
      "(CVXPY) Feb 24 04:11:56 PM: Applying reduction ECOS\n",
      "(CVXPY) Feb 24 04:11:56 PM: Finished problem compilation (took 1.040e-02 seconds).\n",
      "-------------------------------------------------------------------------------\n",
      "                                Numerical solver                               \n",
      "-------------------------------------------------------------------------------\n",
      "(CVXPY) Feb 24 04:11:56 PM: Invoking solver ECOS  to obtain a solution.\n",
      "-------------------------------------------------------------------------------\n",
      "                                    Summary                                    \n",
      "-------------------------------------------------------------------------------\n",
      "(CVXPY) Feb 24 04:11:56 PM: Problem status: optimal\n",
      "(CVXPY) Feb 24 04:11:56 PM: Optimal value: 1.732e+01\n",
      "(CVXPY) Feb 24 04:11:56 PM: Compilation took 1.040e-02 seconds\n",
      "(CVXPY) Feb 24 04:11:56 PM: Solver (including time spent in interface) took 8.488e-04 seconds\n"
     ]
    },
    {
     "data": {
      "text/plain": [
       "17.323567854988987"
      ]
     },
     "execution_count": 6,
     "metadata": {},
     "output_type": "execute_result"
    }
   ],
   "source": [
    "q = cp.Variable(N, 'q')\n",
    "v = cp.Variable(N, 'v')\n",
    "w = cp.Variable(N, 'w')\n",
    "ob = cp.sum(w)\n",
    "con = [M @ q == x_des, q - v <= 0, q + v >= 0, v - w <= 0, v + v - c - w <= 0]\n",
    "pb = cp.Problem(cp.Minimize(ob), con)\n",
    "pb.solve(verbose = True, solver = cp.ECOS)"
   ]
  },
  {
   "cell_type": "code",
   "execution_count": 7,
   "id": "13fa7a5a",
   "metadata": {},
   "outputs": [
    {
     "data": {
      "image/png": "[encoded data removed]",
      "text/plain": [
       "<Figure size 640x480 with 1 Axes>"
      ]
     },
     "metadata": {},
     "output_type": "display_data"
    }
   ],
   "source": [
    "plt.stairs(q.value,range(N+1))\n",
    "plt.xlabel('t')\n",
    "plt.ylabel('q[t]')\n",
    "plt.show()"
   ]
  },
  {
   "cell_type": "markdown",
   "id": "5b6b8755",
   "metadata": {},
   "source": [
    "\\\n",
    "\n",
    "The LP formulation indeed gives the same solution as the original formulation. The following line determines the $\\ell_1$ error between the optimal solutions of the above two problems, which is $<10^{-8}$, so the solutions are practically the same. "
   ]
  },
  {
   "cell_type": "code",
   "execution_count": 8,
   "id": "9fd0a119",
   "metadata": {},
   "outputs": [
    {
     "name": "stdout",
     "output_type": "stream",
     "text": [
      "7.965044064222433e-09\n"
     ]
    }
   ],
   "source": [
    "print(sum([abs(q.value[i] - u.value[i]) for i in range(N)]))"
   ]
  }
 ],
 "metadata": {
  "kernelspec": {
   "display_name": "Python 3 (ipykernel)",
   "language": "python",
   "name": "python3"
  },
  "language_info": {
   "codemirror_mode": {
    "name": "ipython",
    "version": 3
   },
   "file_extension": ".py",
   "mimetype": "text/x-python",
   "name": "python",
   "nbconvert_exporter": "python",
   "pygments_lexer": "ipython3",
   "version": "3.11.6"
  }
 },
 "nbformat": 4,
 "nbformat_minor": 5
}
